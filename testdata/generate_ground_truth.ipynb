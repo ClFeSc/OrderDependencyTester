{
 "cells": [
  {
   "cell_type": "code",
   "execution_count": 11,
   "metadata": {},
   "outputs": [],
   "source": [
    "# validates randomly generated list-based ODs directly on the data\n",
    "import pandas as pd\n",
    "import random\n",
    "from tqdm.notebook import tqdm\n",
    "import numpy as np\n",
    "from pathlib import Path\n",
    "from datetime import datetime, timedelta"
   ]
  },
  {
   "cell_type": "code",
   "execution_count": 12,
   "metadata": {},
   "outputs": [],
   "source": [
    "def unique_counts(x: pd.Series):\n",
    "    return len(x.unique())\n",
    "\n",
    "def colsToString(cols: tuple[str], directions: tuple[bool]):\n",
    "        return f\",\".join([col + (\"↑\" if direction else \"↓\") for col, direction in zip(cols, directions)])\n",
    "\n",
    "\n",
    "class ListBasedDependency():\n",
    "    def __init__(self, df: pd.DataFrame, lhs: list[str], lhsDirection: list[bool], rhs: list[str], rhsDirection : list[bool]) -> None:\n",
    "        self.df = df\n",
    "        self.df = pd.concat([self.df, self.df.isna().add_suffix(\"_isna\")],axis=1)\n",
    "        self.lhs = lhs\n",
    "        self.lhsDirection = lhsDirection\n",
    "        self.rhs = rhs\n",
    "        self.rhsDirection = rhsDirection\n",
    "        \n",
    "    # ensure propoer null first sorting by first sorting by _isna columns\n",
    "    # returns (columns, direction)\n",
    "    def create_sort_args(self, columns, direction):\n",
    "        sort_cols = []\n",
    "        sort_directions = []\n",
    "        for col, dir in zip(columns, direction):\n",
    "            sort_cols.append(col + \"_isna\")\n",
    "            sort_directions.append(True)\n",
    "            sort_cols.append(col)\n",
    "            sort_directions.append(dir)\n",
    "        return sort_cols, sort_directions\n",
    "         \n",
    "    \n",
    "    def isValid(self):\n",
    "        # no splits\n",
    "        df_fd_check = self.df.groupby(self.lhs,dropna=False).agg({col: unique_counts for col in self.rhs})\n",
    "        if not (df_fd_check == 1).all(axis=None):\n",
    "             return False\n",
    "        \n",
    "        # no swaps\n",
    "        lhs, lhsDirection = self.create_sort_args(self.lhs, self.lhsDirection)\n",
    "        sorted_by_lhs = self.df.sort_values(lhs, ascending=lhsDirection)\n",
    "        rhs, rhsDirection = self.create_sort_args(self.rhs, self.rhsDirection)\n",
    "        sorted_by_rhs = sorted_by_lhs.sort_values(rhs, ascending=rhsDirection,kind=\"stable\")\n",
    "        return (sorted_by_lhs.index == sorted_by_rhs.index).all()\n",
    "    \n",
    "    def __str__(self):\n",
    "        result = \"[\"\n",
    "        result += colsToString(self.lhs, self.lhsDirection)\n",
    "        result += \"] -> [\"\n",
    "        result += colsToString(self.rhs, self.rhsDirection)\n",
    "        result += \"]\"\n",
    "        return result    \n"
   ]
  },
  {
   "cell_type": "code",
   "execution_count": 13,
   "metadata": {},
   "outputs": [],
   "source": [
    "\n",
    "def isPrefixOf(listA, listB):\n",
    "    if(len(listB) < len(listA)):\n",
    "        return False\n",
    "    for i in range(len(listA)):\n",
    "        if listA[i] != listB[i]:\n",
    "            return False\n",
    "    return True\n",
    "\n",
    "def generateCnadidates(df, valid_amount = 100, max_side_length=6, max_tries = 10_000):\n",
    "    df.fillna(-np.inf,inplace=True)\n",
    "    valids = set()\n",
    "    invalids = set()\n",
    "    starttime = datetime.now()\n",
    "    max_side_length = min(max_side_length, len(df.columns))\n",
    "    i = 0\n",
    "    if i % 1000 == 0:\n",
    "        print(f\"{i=}\")\n",
    "    while len(valids) < valid_amount and i < max_tries:\n",
    "        i += 1\n",
    "        if datetime.now() - starttime > timedelta(minutes=10):\n",
    "            print(f\"Cancel after timeout with {len(valids)=} and {len(invalids)=}\")\n",
    "            return valids, invalids\n",
    "        lhsSize = random.randint(1,max_side_length)\n",
    "        rhsSize = random.randint(1,max_side_length)\n",
    "        lhs = random.sample(sorted(df.columns), lhsSize)\n",
    "        rhs = random.sample(sorted(df.columns), rhsSize)\n",
    "        lhsDirection = [random.choice([True, False]) for _ in range(lhsSize)]\n",
    "        rhsDirection = [random.choice([True, False]) for _ in range(rhsSize)]\n",
    "        \n",
    "        # skpi trivial ODs\n",
    "        if isPrefixOf(rhsDirection, lhsDirection) or isPrefixOf(rhs,lhs):\n",
    "            continue\n",
    "\n",
    "        od = ListBasedDependency(df, lhs, lhsDirection, rhs, rhsDirection)\n",
    "\n",
    "        if od.isValid():\n",
    "            valids.add(str(od))\n",
    "\n",
    "            if len(valids) % 10 == 0:\n",
    "                print(f\"{len(valids)=}\")\n",
    "            \n",
    "        elif len(invalids) < 10_000:\n",
    "            invalids.add(str(od))\n",
    "    return valids, invalids"
   ]
  },
  {
   "cell_type": "code",
   "execution_count": 14,
   "metadata": {},
   "outputs": [],
   "source": [
    "root_path = Path(\"/Users/paulsieben/HPI/WiSe 2023-2024 Advanced Data Profiling/Example Data and ODs\")"
   ]
  },
  {
   "cell_type": "code",
   "execution_count": 15,
   "metadata": {},
   "outputs": [
    {
     "data": {
      "application/vnd.jupyter.widget-view+json": {
       "model_id": "b53ba0cf901f4647be6f5df13a621469",
       "version_major": 2,
       "version_minor": 0
      },
      "text/plain": [
       "0it [00:00, ?it/s]"
      ]
     },
     "metadata": {},
     "output_type": "display_data"
    },
    {
     "name": "stdout",
     "output_type": "stream",
     "text": [
      "/Users/paulsieben/HPI/WiSe 2023-2024 Advanced Data Profiling/Example Data and ODs/datasets/credit/category.csv\n",
      "i=0\n",
      "len(valids)=10\n",
      "len(valids)=20\n",
      "len(valids)=30\n",
      "len(valids)=40\n",
      "len(valids)=50\n",
      "len(valids)=60\n",
      "len(valids)=70\n",
      "len(valids)=80\n",
      "len(valids)=80\n",
      "len(valids)=90\n",
      "len(valids)=100\n"
     ]
    }
   ],
   "source": [
    "from tqdm.notebook import tqdm\n",
    "result_path = Path('/Users/paulsieben/Programming/OrderDependencyTester/testdata')\n",
    "for file in tqdm((root_path / \"datasets\").glob(\"**/*\")):\n",
    "    if file.is_dir() or not file.name.endswith('.csv'): continue\n",
    "    valid_path = result_path / \"candidates\" / str(file.parent.name)/ (str(file.name) + \".valids.txt\")\n",
    "    invalid_path = result_path / \"candidates\" / str(file.parent.name)/ (str(file.name) + \".invalids.txt\")\n",
    "    if valid_path.exists() and invalid_path.exists(): continue\n",
    "    print(file)\n",
    "\n",
    "    valids, invalids = generateCnadidates(pd.read_csv(file,sep='\\t'))\n",
    "\n",
    "    valid_path.parent.mkdir(parents=True, exist_ok=True)\n",
    "    valid_path.write_text('\\n'.join(valids))\n",
    "\n",
    "    invalid_path.parent.mkdir(parents=True, exist_ok=True)\n",
    "    invalid_path.write_text('\\n'.join(invalids))\n",
    "    \n"
   ]
  },
  {
   "cell_type": "code",
   "execution_count": 59,
   "metadata": {},
   "outputs": [],
   "source": [
    "df = x = pd.read_csv(\"/Users/paulsieben/HPI/WiSe 2023-2024 Advanced Data Profiling/Example Data and ODs/datasets/credit/provider.csv\", sep=\"\\t\")\n"
   ]
  },
  {
   "cell_type": "code",
   "execution_count": 60,
   "metadata": {},
   "outputs": [
    {
     "data": {
      "text/plain": [
       "False"
      ]
     },
     "execution_count": 60,
     "metadata": {},
     "output_type": "execute_result"
    }
   ],
   "source": [
    "ListBasedDependency(df,[\"mail_code\"],[False],[\"phone_no\",\"issue_dt\"],[False,True]).isValid()"
   ]
  },
  {
   "cell_type": "code",
   "execution_count": 61,
   "metadata": {},
   "outputs": [],
   "source": [
    "# create a pandas time series containing the last 10 days at midnight\n",
    "\n",
    "s = pd.date_range(end=datetime.now(), periods=10, freq='D').to_series()"
   ]
  },
  {
   "cell_type": "code",
   "execution_count": 62,
   "metadata": {},
   "outputs": [
    {
     "ename": "TypeError",
     "evalue": "'<' not supported between instances of 'float' and 'Timestamp'",
     "output_type": "error",
     "traceback": [
      "\u001b[0;31m---------------------------------------------------------------------------\u001b[0m",
      "\u001b[0;31mTypeError\u001b[0m                                 Traceback (most recent call last)",
      "Cell \u001b[0;32mIn[62], line 1\u001b[0m\n\u001b[0;32m----> 1\u001b[0m \u001b[43mpd\u001b[49m\u001b[38;5;241;43m.\u001b[39;49m\u001b[43mto_datetime\u001b[49m\u001b[43m(\u001b[49m\u001b[43mpd\u001b[49m\u001b[38;5;241;43m.\u001b[39;49m\u001b[43mconcat\u001b[49m\u001b[43m(\u001b[49m\u001b[43m[\u001b[49m\u001b[43ms\u001b[49m\u001b[43m,\u001b[49m\u001b[43m \u001b[49m\u001b[43mpd\u001b[49m\u001b[38;5;241;43m.\u001b[39;49m\u001b[43mSeries\u001b[49m\u001b[43m(\u001b[49m\u001b[43m[\u001b[49m\u001b[43mnp\u001b[49m\u001b[38;5;241;43m.\u001b[39;49m\u001b[43mnan\u001b[49m\u001b[43m,\u001b[49m\u001b[43m \u001b[49m\u001b[43mnp\u001b[49m\u001b[38;5;241;43m.\u001b[39;49m\u001b[43mnan\u001b[49m\u001b[43m]\u001b[49m\u001b[43m)\u001b[49m\u001b[43m]\u001b[49m\u001b[43m)\u001b[49m\u001b[43m)\u001b[49m\u001b[38;5;241;43m.\u001b[39;49m\u001b[43mfillna\u001b[49m\u001b[43m(\u001b[49m\u001b[38;5;241;43m-\u001b[39;49m\u001b[43mnp\u001b[49m\u001b[38;5;241;43m.\u001b[39;49m\u001b[43minf\u001b[49m\u001b[43m)\u001b[49m\u001b[38;5;241;43m.\u001b[39;49m\u001b[43msort_values\u001b[49m\u001b[43m(\u001b[49m\u001b[43m)\u001b[49m\n",
      "File \u001b[0;32m~/opt/miniconda3/envs/hcc/lib/python3.9/site-packages/pandas/core/series.py:3731\u001b[0m, in \u001b[0;36mSeries.sort_values\u001b[0;34m(self, axis, ascending, inplace, kind, na_position, ignore_index, key)\u001b[0m\n\u001b[1;32m   3729\u001b[0m \u001b[38;5;28;01melse\u001b[39;00m:\n\u001b[1;32m   3730\u001b[0m     values_to_sort \u001b[38;5;241m=\u001b[39m \u001b[38;5;28mself\u001b[39m\u001b[38;5;241m.\u001b[39m_values\n\u001b[0;32m-> 3731\u001b[0m sorted_index \u001b[38;5;241m=\u001b[39m \u001b[43mnargsort\u001b[49m\u001b[43m(\u001b[49m\u001b[43mvalues_to_sort\u001b[49m\u001b[43m,\u001b[49m\u001b[43m \u001b[49m\u001b[43mkind\u001b[49m\u001b[43m,\u001b[49m\u001b[43m \u001b[49m\u001b[38;5;28;43mbool\u001b[39;49m\u001b[43m(\u001b[49m\u001b[43mascending\u001b[49m\u001b[43m)\u001b[49m\u001b[43m,\u001b[49m\u001b[43m \u001b[49m\u001b[43mna_position\u001b[49m\u001b[43m)\u001b[49m\n\u001b[1;32m   3733\u001b[0m \u001b[38;5;28;01mif\u001b[39;00m is_range_indexer(sorted_index, \u001b[38;5;28mlen\u001b[39m(sorted_index)):\n\u001b[1;32m   3734\u001b[0m     \u001b[38;5;28;01mif\u001b[39;00m inplace:\n",
      "File \u001b[0;32m~/opt/miniconda3/envs/hcc/lib/python3.9/site-packages/pandas/core/sorting.py:483\u001b[0m, in \u001b[0;36mnargsort\u001b[0;34m(items, kind, ascending, na_position, key, mask)\u001b[0m\n\u001b[1;32m    481\u001b[0m     non_nans \u001b[38;5;241m=\u001b[39m non_nans[::\u001b[38;5;241m-\u001b[39m\u001b[38;5;241m1\u001b[39m]\n\u001b[1;32m    482\u001b[0m     non_nan_idx \u001b[38;5;241m=\u001b[39m non_nan_idx[::\u001b[38;5;241m-\u001b[39m\u001b[38;5;241m1\u001b[39m]\n\u001b[0;32m--> 483\u001b[0m indexer \u001b[38;5;241m=\u001b[39m non_nan_idx[\u001b[43mnon_nans\u001b[49m\u001b[38;5;241;43m.\u001b[39;49m\u001b[43margsort\u001b[49m\u001b[43m(\u001b[49m\u001b[43mkind\u001b[49m\u001b[38;5;241;43m=\u001b[39;49m\u001b[43mkind\u001b[49m\u001b[43m)\u001b[49m]\n\u001b[1;32m    484\u001b[0m \u001b[38;5;28;01mif\u001b[39;00m \u001b[38;5;129;01mnot\u001b[39;00m ascending:\n\u001b[1;32m    485\u001b[0m     indexer \u001b[38;5;241m=\u001b[39m indexer[::\u001b[38;5;241m-\u001b[39m\u001b[38;5;241m1\u001b[39m]\n",
      "\u001b[0;31mTypeError\u001b[0m: '<' not supported between instances of 'float' and 'Timestamp'"
     ]
    }
   ],
   "source": [
    "pd.to_datetime(pd.concat([s, pd.Series([np.nan, np.nan])])).fillna(-np.inf).sort_values()"
   ]
  },
  {
   "cell_type": "code",
   "execution_count": null,
   "metadata": {},
   "outputs": [],
   "source": [
    "s2 = pd.Series([\"a\",\"b\",\"3\",np.nan])"
   ]
  },
  {
   "cell_type": "code",
   "execution_count": null,
   "metadata": {},
   "outputs": [
    {
     "ename": "TypeError",
     "evalue": "'<' not supported between instances of 'float' and 'str'",
     "output_type": "error",
     "traceback": [
      "\u001b[0;31m---------------------------------------------------------------------------\u001b[0m",
      "\u001b[0;31mTypeError\u001b[0m                                 Traceback (most recent call last)",
      "Cell \u001b[0;32mIn[18], line 1\u001b[0m\n\u001b[0;32m----> 1\u001b[0m \u001b[43ms2\u001b[49m\u001b[38;5;241;43m.\u001b[39;49m\u001b[43mfillna\u001b[49m\u001b[43m(\u001b[49m\u001b[38;5;241;43m-\u001b[39;49m\u001b[43mnp\u001b[49m\u001b[38;5;241;43m.\u001b[39;49m\u001b[43minf\u001b[49m\u001b[43m)\u001b[49m\u001b[38;5;241;43m.\u001b[39;49m\u001b[43msort_values\u001b[49m\u001b[43m(\u001b[49m\u001b[43m)\u001b[49m\n",
      "File \u001b[0;32m~/opt/miniconda3/envs/hcc/lib/python3.9/site-packages/pandas/core/series.py:3731\u001b[0m, in \u001b[0;36mSeries.sort_values\u001b[0;34m(self, axis, ascending, inplace, kind, na_position, ignore_index, key)\u001b[0m\n\u001b[1;32m   3729\u001b[0m \u001b[38;5;28;01melse\u001b[39;00m:\n\u001b[1;32m   3730\u001b[0m     values_to_sort \u001b[38;5;241m=\u001b[39m \u001b[38;5;28mself\u001b[39m\u001b[38;5;241m.\u001b[39m_values\n\u001b[0;32m-> 3731\u001b[0m sorted_index \u001b[38;5;241m=\u001b[39m \u001b[43mnargsort\u001b[49m\u001b[43m(\u001b[49m\u001b[43mvalues_to_sort\u001b[49m\u001b[43m,\u001b[49m\u001b[43m \u001b[49m\u001b[43mkind\u001b[49m\u001b[43m,\u001b[49m\u001b[43m \u001b[49m\u001b[38;5;28;43mbool\u001b[39;49m\u001b[43m(\u001b[49m\u001b[43mascending\u001b[49m\u001b[43m)\u001b[49m\u001b[43m,\u001b[49m\u001b[43m \u001b[49m\u001b[43mna_position\u001b[49m\u001b[43m)\u001b[49m\n\u001b[1;32m   3733\u001b[0m \u001b[38;5;28;01mif\u001b[39;00m is_range_indexer(sorted_index, \u001b[38;5;28mlen\u001b[39m(sorted_index)):\n\u001b[1;32m   3734\u001b[0m     \u001b[38;5;28;01mif\u001b[39;00m inplace:\n",
      "File \u001b[0;32m~/opt/miniconda3/envs/hcc/lib/python3.9/site-packages/pandas/core/sorting.py:483\u001b[0m, in \u001b[0;36mnargsort\u001b[0;34m(items, kind, ascending, na_position, key, mask)\u001b[0m\n\u001b[1;32m    481\u001b[0m     non_nans \u001b[38;5;241m=\u001b[39m non_nans[::\u001b[38;5;241m-\u001b[39m\u001b[38;5;241m1\u001b[39m]\n\u001b[1;32m    482\u001b[0m     non_nan_idx \u001b[38;5;241m=\u001b[39m non_nan_idx[::\u001b[38;5;241m-\u001b[39m\u001b[38;5;241m1\u001b[39m]\n\u001b[0;32m--> 483\u001b[0m indexer \u001b[38;5;241m=\u001b[39m non_nan_idx[\u001b[43mnon_nans\u001b[49m\u001b[38;5;241;43m.\u001b[39;49m\u001b[43margsort\u001b[49m\u001b[43m(\u001b[49m\u001b[43mkind\u001b[49m\u001b[38;5;241;43m=\u001b[39;49m\u001b[43mkind\u001b[49m\u001b[43m)\u001b[49m]\n\u001b[1;32m    484\u001b[0m \u001b[38;5;28;01mif\u001b[39;00m \u001b[38;5;129;01mnot\u001b[39;00m ascending:\n\u001b[1;32m    485\u001b[0m     indexer \u001b[38;5;241m=\u001b[39m indexer[::\u001b[38;5;241m-\u001b[39m\u001b[38;5;241m1\u001b[39m]\n",
      "\u001b[0;31mTypeError\u001b[0m: '<' not supported between instances of 'float' and 'str'"
     ]
    }
   ],
   "source": [
    "s2.fillna(-np.inf).sort_values()"
   ]
  },
  {
   "cell_type": "code",
   "execution_count": null,
   "metadata": {},
   "outputs": [],
   "source": []
  }
 ],
 "metadata": {
  "kernelspec": {
   "display_name": "Python 3",
   "language": "python",
   "name": "python3"
  },
  "language_info": {
   "codemirror_mode": {
    "name": "ipython",
    "version": 3
   },
   "file_extension": ".py",
   "mimetype": "text/x-python",
   "name": "python",
   "nbconvert_exporter": "python",
   "pygments_lexer": "ipython3",
   "version": "3.9.18"
  }
 },
 "nbformat": 4,
 "nbformat_minor": 2
}
