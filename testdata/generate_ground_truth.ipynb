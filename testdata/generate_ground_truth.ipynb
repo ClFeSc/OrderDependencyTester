{
 "cells": [
  {
   "cell_type": "code",
   "execution_count": 31,
   "metadata": {},
   "outputs": [],
   "source": [
    "# validates randomly generated list-based ODs directly on the data\n",
    "import pandas as pd\n",
    "import random\n",
    "from tqdm.notebook import tqdm"
   ]
  },
  {
   "cell_type": "code",
   "execution_count": 32,
   "metadata": {},
   "outputs": [],
   "source": [
    "df = pd.read_csv(\"horse-sub.csv\",sep=\";\",header=None).iloc[:,:28]"
   ]
  },
  {
   "cell_type": "code",
   "execution_count": 33,
   "metadata": {},
   "outputs": [],
   "source": [
    "def number_to_excel_column(n):\n",
    "    result = \"\"\n",
    "    while n > 0:\n",
    "        n, remainder = divmod(n - 1, 26)\n",
    "        result = chr(65 + remainder) + result  # 65 is the ASCII code for 'A'\n",
    "    return result"
   ]
  },
  {
   "cell_type": "code",
   "execution_count": 34,
   "metadata": {},
   "outputs": [],
   "source": [
    "def unique_counts(x: pd.Series):\n",
    "    return len(set(x))\n",
    "\n",
    "def colsToString(cols: tuple[str], directions: tuple[bool]):\n",
    "        return f\",\".join([number_to_excel_column(col + 1) + (\"↑\" if direction else \"↓\") for col, direction in zip(cols, directions)])\n",
    "\n",
    "\n",
    "class ListBasedDependency():\n",
    "    def __init__(self, df, lhs, lhsDirection, rhs, rhsDirection) -> None:\n",
    "        self.df = df\n",
    "        self.lhs = lhs\n",
    "        self.lhsDirection = lhsDirection\n",
    "        self.rhs = rhs\n",
    "        self.rhsDirection = rhsDirection\n",
    "        \n",
    "    \n",
    "    def isValid(self):\n",
    "        # no swaps\n",
    "        sorted_by_lhs = df.sort_values(self.lhs, ascending=self.lhsDirection)\n",
    "        sorted_by_rhs = sorted_by_lhs.sort_values(self.rhs, ascending=self.rhsDirection,kind=\"stable\")\n",
    "        \n",
    "        # no splits\n",
    "        df_fd_check = df.groupby(self.lhs).agg({col: unique_counts for col in self.rhs})\n",
    "        return (sorted_by_lhs.index == sorted_by_rhs.index).all() and (df_fd_check == 1).all(axis=None)\n",
    "    \n",
    "    def __str__(self):\n",
    "        result = \"[\"\n",
    "        result += colsToString(self.lhs, self.rhsDirection)\n",
    "        result += \"] -> [\"\n",
    "        result += colsToString(self.rhs, self.rhsDirection)\n",
    "        result += \"]\"\n",
    "        return result    \n"
   ]
  },
  {
   "cell_type": "code",
   "execution_count": 35,
   "metadata": {},
   "outputs": [
    {
     "data": {
      "application/vnd.jupyter.widget-view+json": {
       "model_id": "7a95a73e07f7469dba93cfe562fc34e6",
       "version_major": 2,
       "version_minor": 0
      },
      "text/plain": [
       "  0%|          | 0/2 [00:00<?, ?it/s]"
      ]
     },
     "metadata": {},
     "output_type": "display_data"
    },
    {
     "data": {
      "application/vnd.jupyter.widget-view+json": {
       "model_id": "f032b84ea9e44a80acfc77a7b312ec7c",
       "version_major": 2,
       "version_minor": 0
      },
      "text/plain": [
       "  0%|          | 0/10000 [00:00<?, ?it/s]"
      ]
     },
     "metadata": {},
     "output_type": "display_data"
    },
    {
     "data": {
      "application/vnd.jupyter.widget-view+json": {
       "model_id": "ddb61b84dc244a15b76e3bb157310f6f",
       "version_major": 2,
       "version_minor": 0
      },
      "text/plain": [
       "  0%|          | 0/10000 [00:00<?, ?it/s]"
      ]
     },
     "metadata": {},
     "output_type": "display_data"
    }
   ],
   "source": [
    "for lhsSize in tqdm([5,10]):\n",
    "    rhsSize = 2\n",
    "    valids = []\n",
    "    invalids = []\n",
    "\n",
    "    for i in tqdm(range(10000),leave=False):\n",
    "        lhs = random.sample(sorted(df.columns), lhsSize)\n",
    "        rhs = random.sample(sorted(df.columns), rhsSize)\n",
    "        lhsDirection = [random.choice([True, False]) for _ in range(lhsSize)]\n",
    "        rhsDirection = [random.choice([True, False]) for _ in range(rhsSize)]\n",
    "        od = ListBasedDependency(df, lhs, lhsDirection, rhs, rhsDirection)\n",
    "\n",
    "        if od.isValid():\n",
    "            valids.append(str(od))\n",
    "            \n",
    "        elif len(invalids) < 1000:\n",
    "            invalids.append(str(od))\n",
    "\n",
    "    with open(f\"valid_{lhsSize}_{rhsSize}.txt\",\"w+\") as f:\n",
    "        f.write(\"\\n\".join(valids))\n",
    "\n",
    "    with open(f\"invalid_{lhsSize}_{rhsSize}.txt\",\"w+\") as f:\n",
    "        f.write(\"\\n\".join(invalids))\n"
   ]
  }
 ],
 "metadata": {
  "kernelspec": {
   "display_name": "Python 3",
   "language": "python",
   "name": "python3"
  },
  "language_info": {
   "codemirror_mode": {
    "name": "ipython",
    "version": 3
   },
   "file_extension": ".py",
   "mimetype": "text/x-python",
   "name": "python",
   "nbconvert_exporter": "python",
   "pygments_lexer": "ipython3",
   "version": "3.10.8"
  }
 },
 "nbformat": 4,
 "nbformat_minor": 2
}
