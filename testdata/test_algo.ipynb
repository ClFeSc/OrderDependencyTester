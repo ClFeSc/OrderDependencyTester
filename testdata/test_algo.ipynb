{
 "cells": [
  {
   "cell_type": "code",
   "execution_count": 2,
   "metadata": {},
   "outputs": [],
   "source": [
    "import pandas as pd\n",
    "import random\n",
    "from tqdm.notebook import tqdm\n",
    "from pathlib import Path\n",
    "from datetime import datetime, timedelta"
   ]
  },
  {
   "cell_type": "code",
   "execution_count": 3,
   "metadata": {},
   "outputs": [],
   "source": [
    "root_path = Path(\"/Users/paulsieben/HPI/WiSe 2023-2024 Advanced Data Profiling/Example Data and ODs\")\n",
    "result_path = Path('/Users/paulsieben/Programming/OrderDependencyTester/testdata')\n",
    "project_path = '/Users/paulsieben/Programming/OrderDependencyTester/CliFrontend'"
   ]
  },
  {
   "cell_type": "code",
   "execution_count": 4,
   "metadata": {},
   "outputs": [],
   "source": [
    "\n",
    "import subprocess"
   ]
  },
  {
   "cell_type": "code",
   "execution_count": 5,
   "metadata": {},
   "outputs": [
    {
     "data": {
      "text/plain": [
       "0"
      ]
     },
     "execution_count": 5,
     "metadata": {},
     "output_type": "execute_result"
    }
   ],
   "source": [
    "len(Path('/Users/paulsieben/HPI/WiSe 2023-2024 Advanced Data Profiling/Example Data and ODs/results/carcinogenesis/sbond_7.csv.txt').read_text())"
   ]
  },
  {
   "cell_type": "code",
   "execution_count": 7,
   "metadata": {},
   "outputs": [
    {
     "data": {
      "application/vnd.jupyter.widget-view+json": {
       "model_id": "d711b981a78c4c479d951ebc3f8b99cb",
       "version_major": 2,
       "version_minor": 0
      },
      "text/plain": [
       "  0%|          | 0/144 [00:00<?, ?it/s]"
      ]
     },
     "metadata": {},
     "output_type": "display_data"
    },
    {
     "name": "stdout",
     "output_type": "stream",
     "text": [
      "2\n"
     ]
    }
   ],
   "source": [
    "from tqdm.notebook import tqdm\n",
    "for file in tqdm(list((root_path / \"datasets\").glob(\"**/*\"))):\n",
    "    if not file.name.endswith('IMG_REL.csv'):\n",
    "        continue\n",
    "    if file.is_dir() or not file.name.endswith('.csv'):\n",
    "        print(1)\n",
    "        continue\n",
    "    distod_results_path = root_path / \"results\" / str(file.parent.name)/ (str(file.name) + \".txt\")\n",
    "    valid_path = result_path / \"candidates\" / str(file.parent.name)/ (str(file.name) + \".valids.txt\")\n",
    "    invalid_path = result_path / \"candidates\" / str(file.parent.name)/ (str(file.name) + \".invalids.txt\")\n",
    "    attributes_path = result_path / \"candidates\" / str(file.parent.name)/ (str(file.name) + \".attributes.txt\")\n",
    "    if not (valid_path.exists() and invalid_path.exists()): continue\n",
    "    # print(file)    \n",
    "    if not attributes_path.exists():\n",
    "        with open(file, 'r') as f:\n",
    "            columns = f.readline().split('\\t')\n",
    "        attributes_path.write_text(\"\\n\".join(columns))\n",
    "    \n",
    "    if not distod_results_path.exists() or len(distod_results_path.read_text()) == 0:\n",
    "        # print(\"DISTOD file not existing or empty\")\n",
    "        print(2)\n",
    "        continue\n",
    "    \n",
    "    for file_path in [invalid_path, valid_path]:\n",
    "        command = f\"dotnet run --project '{project_path}' -c Release '{distod_results_path}' '{file_path}' '{attributes_path}'\"\n",
    "        # get number of lines in file_path\n",
    "        file_length = file_path.read_text().count('\\n') + 1\n",
    "        result = subprocess.run(command, shell=True, stdout=subprocess.PIPE, stderr=subprocess.PIPE, text=True)\n",
    "        \n",
    "        if '.valids.txt' in file_path.name and f\"Valid count: {file_length}\" not in result.stdout and \"Total count: 0\" not in result.stdout:\n",
    "            print(command)\n",
    "            print(file_length) \n",
    "            print(result.stdout)\n",
    "        \n",
    "        elif '.invalids.txt' in file_path.name and \"Valid count: 0\" not in result.stdout and \"Total count: 0\" not in result.stdout:\n",
    "            print(command)\n",
    "            print(file_length)\n",
    "            print(result.stdout)"
   ]
  },
  {
   "cell_type": "code",
   "execution_count": null,
   "metadata": {},
   "outputs": [],
   "source": []
  }
 ],
 "metadata": {
  "kernelspec": {
   "display_name": "hcc",
   "language": "python",
   "name": "python3"
  },
  "language_info": {
   "codemirror_mode": {
    "name": "ipython",
    "version": 3
   },
   "file_extension": ".py",
   "mimetype": "text/x-python",
   "name": "python",
   "nbconvert_exporter": "python",
   "pygments_lexer": "ipython3",
   "version": "3.9.18"
  }
 },
 "nbformat": 4,
 "nbformat_minor": 2
}
