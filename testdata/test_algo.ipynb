{
 "cells": [
  {
   "cell_type": "code",
   "execution_count": 6,
   "metadata": {},
   "outputs": [],
   "source": [
    "import pandas as pd\n",
    "import random\n",
    "from tqdm.notebook import tqdm\n",
    "from pathlib import Path\n",
    "from datetime import datetime, timedelta"
   ]
  },
  {
   "cell_type": "code",
   "execution_count": 7,
   "metadata": {},
   "outputs": [],
   "source": [
    "root_path = Path(\"/Users/paulsieben/HPI/WiSe 2023-2024 Advanced Data Profiling/Example Data and ODs\")\n",
    "result_path = Path('/Users/paulsieben/Programming/OrderDependencyTester/testdata')\n",
    "project_path = '/Users/paulsieben/Programming/OrderDependencyTester/CliFrontend'"
   ]
  },
  {
   "cell_type": "code",
   "execution_count": 8,
   "metadata": {},
   "outputs": [],
   "source": [
    "\n",
    "import subprocess"
   ]
  },
  {
   "cell_type": "code",
   "execution_count": 13,
   "metadata": {},
   "outputs": [
    {
     "data": {
      "text/plain": [
       "0"
      ]
     },
     "execution_count": 13,
     "metadata": {},
     "output_type": "execute_result"
    }
   ],
   "source": [
    "len(Path('/Users/paulsieben/HPI/WiSe 2023-2024 Advanced Data Profiling/Example Data and ODs/results/carcinogenesis/sbond_7.csv.txt').read_text())"
   ]
  },
  {
   "cell_type": "code",
   "execution_count": 18,
   "metadata": {},
   "outputs": [
    {
     "data": {
      "application/vnd.jupyter.widget-view+json": {
       "model_id": "b3cd7a6240a84c6989174e50714ce5f4",
       "version_major": 2,
       "version_minor": 0
      },
      "text/plain": [
       "0it [00:00, ?it/s]"
      ]
     },
     "metadata": {},
     "output_type": "display_data"
    },
    {
     "name": "stdout",
     "output_type": "stream",
     "text": [
      "/Users/paulsieben/HPI/WiSe 2023-2024 Advanced Data Profiling/Example Data and ODs/datasets/credit/provider.csv\n",
      "/Users/paulsieben/HPI/WiSe 2023-2024 Advanced Data Profiling/Example Data and ODs/datasets/credit/corporation.csv\n",
      "/Users/paulsieben/HPI/WiSe 2023-2024 Advanced Data Profiling/Example Data and ODs/datasets/credit/statement.csv\n",
      "/Users/paulsieben/HPI/WiSe 2023-2024 Advanced Data Profiling/Example Data and ODs/datasets/credit/payment.csv\n",
      "/Users/paulsieben/HPI/WiSe 2023-2024 Advanced Data Profiling/Example Data and ODs/datasets/credit/member.csv\n",
      "/Users/paulsieben/HPI/WiSe 2023-2024 Advanced Data Profiling/Example Data and ODs/datasets/credit/region.csv\n",
      "/Users/paulsieben/HPI/WiSe 2023-2024 Advanced Data Profiling/Example Data and ODs/datasets/credit/category.csv\n",
      "/Users/paulsieben/HPI/WiSe 2023-2024 Advanced Data Profiling/Example Data and ODs/datasets/credit/charge.csv\n",
      "DISTOD file empty\n",
      "/Users/paulsieben/HPI/WiSe 2023-2024 Advanced Data Profiling/Example Data and ODs/datasets/fhnk/vykony.csv\n"
     ]
    },
    {
     "name": "stderr",
     "output_type": "stream",
     "text": [
      "Warning: No ODs are being tested. Check your input data.\n"
     ]
    },
    {
     "name": "stdout",
     "output_type": "stream",
     "text": [
      "/Users/paulsieben/HPI/WiSe 2023-2024 Advanced Data Profiling/Example Data and ODs/datasets/fhnk/zup.csv\n"
     ]
    },
    {
     "name": "stderr",
     "output_type": "stream",
     "text": [
      "Warning: No ODs are being tested. Check your input data.\n"
     ]
    },
    {
     "name": "stdout",
     "output_type": "stream",
     "text": [
      "/Users/paulsieben/HPI/WiSe 2023-2024 Advanced Data Profiling/Example Data and ODs/datasets/fhnk/pripady.csv\n"
     ]
    },
    {
     "name": "stderr",
     "output_type": "stream",
     "text": [
      "Warning: No ODs are being tested. Check your input data.\n"
     ]
    },
    {
     "name": "stdout",
     "output_type": "stream",
     "text": [
      "/Users/paulsieben/HPI/WiSe 2023-2024 Advanced Data Profiling/Example Data and ODs/datasets/seznam/client.csv\n",
      "/Users/paulsieben/HPI/WiSe 2023-2024 Advanced Data Profiling/Example Data and ODs/datasets/seznam/dobito.csv\n"
     ]
    },
    {
     "name": "stderr",
     "output_type": "stream",
     "text": [
      "Warning: No ODs are being tested. Check your input data.\n"
     ]
    },
    {
     "name": "stdout",
     "output_type": "stream",
     "text": [
      "/Users/paulsieben/HPI/WiSe 2023-2024 Advanced Data Profiling/Example Data and ODs/datasets/seznam/probehnuto.csv\n",
      "DISTOD file empty\n",
      "/Users/paulsieben/HPI/WiSe 2023-2024 Advanced Data Profiling/Example Data and ODs/datasets/seznam/probehnuto_mimo_penezenku.csv\n",
      "/Users/paulsieben/HPI/WiSe 2023-2024 Advanced Data Profiling/Example Data and ODs/datasets/financial/loan.csv\n",
      "/Users/paulsieben/HPI/WiSe 2023-2024 Advanced Data Profiling/Example Data and ODs/datasets/financial/client.csv\n",
      "/Users/paulsieben/HPI/WiSe 2023-2024 Advanced Data Profiling/Example Data and ODs/datasets/financial/district.csv\n",
      "/Users/paulsieben/HPI/WiSe 2023-2024 Advanced Data Profiling/Example Data and ODs/datasets/financial/trans.csv\n"
     ]
    },
    {
     "name": "stderr",
     "output_type": "stream",
     "text": [
      "Warning: No ODs are being tested. Check your input data.\n"
     ]
    },
    {
     "name": "stdout",
     "output_type": "stream",
     "text": [
      "/Users/paulsieben/HPI/WiSe 2023-2024 Advanced Data Profiling/Example Data and ODs/datasets/financial/account.csv\n",
      "/Users/paulsieben/HPI/WiSe 2023-2024 Advanced Data Profiling/Example Data and ODs/datasets/financial/card.csv\n",
      "/Users/paulsieben/HPI/WiSe 2023-2024 Advanced Data Profiling/Example Data and ODs/datasets/financial/order.csv\n",
      "/Users/paulsieben/HPI/WiSe 2023-2024 Advanced Data Profiling/Example Data and ODs/datasets/financial/disp.csv\n",
      "/Users/paulsieben/HPI/WiSe 2023-2024 Advanced Data Profiling/Example Data and ODs/datasets/carcinogenesis/sbond_7.csv\n",
      "DISTOD file empty\n",
      "/Users/paulsieben/HPI/WiSe 2023-2024 Advanced Data Profiling/Example Data and ODs/datasets/carcinogenesis/sbond_2.csv\n",
      "DISTOD file empty\n",
      "/Users/paulsieben/HPI/WiSe 2023-2024 Advanced Data Profiling/Example Data and ODs/datasets/carcinogenesis/sbond_3.csv\n",
      "DISTOD file empty\n",
      "/Users/paulsieben/HPI/WiSe 2023-2024 Advanced Data Profiling/Example Data and ODs/datasets/carcinogenesis/sbond_1.csv\n",
      "DISTOD file empty\n",
      "/Users/paulsieben/HPI/WiSe 2023-2024 Advanced Data Profiling/Example Data and ODs/datasets/carcinogenesis/atom.csv\n",
      "DISTOD file empty\n",
      "/Users/paulsieben/HPI/WiSe 2023-2024 Advanced Data Profiling/Example Data and ODs/datasets/carcinogenesis/canc.csv\n",
      "DISTOD file empty\n",
      "/Users/paulsieben/HPI/WiSe 2023-2024 Advanced Data Profiling/Example Data and ODs/datasets/accidents/oseba.csv\n"
     ]
    },
    {
     "name": "stderr",
     "output_type": "stream",
     "text": [
      "Warning: No ODs are being tested. Check your input data.\n"
     ]
    },
    {
     "name": "stdout",
     "output_type": "stream",
     "text": [
      "/Users/paulsieben/HPI/WiSe 2023-2024 Advanced Data Profiling/Example Data and ODs/datasets/accidents/upravna_enota.csv\n",
      "/Users/paulsieben/HPI/WiSe 2023-2024 Advanced Data Profiling/Example Data and ODs/datasets/accidents/nesreca.csv\n"
     ]
    },
    {
     "name": "stderr",
     "output_type": "stream",
     "text": [
      "Warning: No ODs are being tested. Check your input data.\n"
     ]
    },
    {
     "name": "stdout",
     "output_type": "stream",
     "text": [
      "/Users/paulsieben/HPI/WiSe 2023-2024 Advanced Data Profiling/Example Data and ODs/datasets/baseball/awardsmanagers.csv\n",
      "/Users/paulsieben/HPI/WiSe 2023-2024 Advanced Data Profiling/Example Data and ODs/datasets/baseball/managers.csv\n",
      "/Users/paulsieben/HPI/WiSe 2023-2024 Advanced Data Profiling/Example Data and ODs/datasets/baseball/awardsplayers.csv\n"
     ]
    },
    {
     "name": "stderr",
     "output_type": "stream",
     "text": [
      "Warning: No ODs are being tested. Check your input data.\n"
     ]
    },
    {
     "name": "stdout",
     "output_type": "stream",
     "text": [
      "/Users/paulsieben/HPI/WiSe 2023-2024 Advanced Data Profiling/Example Data and ODs/datasets/baseball/fielding.csv\n"
     ]
    },
    {
     "name": "stderr",
     "output_type": "stream",
     "text": [
      "Warning: No ODs are being tested. Check your input data.\n"
     ]
    },
    {
     "name": "stdout",
     "output_type": "stream",
     "text": [
      "/Users/paulsieben/HPI/WiSe 2023-2024 Advanced Data Profiling/Example Data and ODs/datasets/baseball/salaries.csv\n"
     ]
    },
    {
     "name": "stderr",
     "output_type": "stream",
     "text": [
      "Warning: No ODs are being tested. Check your input data.\n"
     ]
    },
    {
     "name": "stdout",
     "output_type": "stream",
     "text": [
      "/Users/paulsieben/HPI/WiSe 2023-2024 Advanced Data Profiling/Example Data and ODs/datasets/baseball/schools.csv\n",
      "/Users/paulsieben/HPI/WiSe 2023-2024 Advanced Data Profiling/Example Data and ODs/datasets/baseball/pitchingpost.csv\n"
     ]
    },
    {
     "name": "stderr",
     "output_type": "stream",
     "text": [
      "Unhandled exception. System.IO.FileNotFoundException: Could not find file '/Users/paulsieben/HPI/WiSe 2023-2024 Advanced Data Profiling/Example Data and ODs/results/baseball/pitchingpost.csv.txt'.\n",
      "File name: '/Users/paulsieben/HPI/WiSe 2023-2024 Advanced Data Profiling/Example Data and ODs/results/baseball/pitchingpost.csv.txt'\n",
      "   at Interop.ThrowExceptionForIoErrno(ErrorInfo errorInfo, String path, Boolean isDirError)\n",
      "   at Microsoft.Win32.SafeHandles.SafeFileHandle.Open(String path, OpenFlags flags, Int32 mode, Boolean failForSymlink, Boolean& wasSymlink, Func`4 createOpenException)\n",
      "   at Microsoft.Win32.SafeHandles.SafeFileHandle.Open(String fullPath, FileMode mode, FileAccess access, FileShare share, FileOptions options, Int64 preallocationSize, UnixFileMode openPermissions, Int64& fileLength, UnixFileMode& filePermissions, Boolean failForSymlink, Boolean& wasSymlink, Func`4 createOpenException)\n",
      "   at System.IO.Strategies.OSFileStreamStrategy..ctor(String path, FileMode mode, FileAccess access, FileShare share, FileOptions options, Int64 preallocationSize, Nullable`1 unixCreateMode)\n",
      "   at System.IO.StreamReader.ValidateArgsAndOpenPath(String path, Encoding encoding, Int32 bufferSize)\n",
      "   at System.IO.File.ReadLines(String path)\n",
      "   at OrderDependencyModels.ISetBasedOrderDependency.Parse[TBitSet](Dictionary`2 attributesMap, String fileName) in /Users/paulsieben/Programming/OrderDependencyTester/OrderDependencyModels/ISetBasedOrderDependency.cs:line 13\n",
      "   at CliFrontend.TestExecutor.SpecificTester.Work[TBitSet]() in /Users/paulsieben/Programming/OrderDependencyTester/CliFrontend/TestExecutor.cs:line 24\n",
      "   at BitSets.BitSet.WithSufficientWidth[TResult](Int32 requiredWidth, IBitSetOperation`1 operation) in /Users/paulsieben/Programming/OrderDependencyTester/BitSets/BitSet.cs:line 11\n",
      "   at CliFrontend.TestExecutor.TestDependencies(String setBasedPath, String listBasedPath, String attributesPath) in /Users/paulsieben/Programming/OrderDependencyTester/CliFrontend/TestExecutor.cs:line 63\n",
      "   at Program.<Main>$(String[] args) in /Users/paulsieben/Programming/OrderDependencyTester/CliFrontend/Program.cs:line 21\n"
     ]
    },
    {
     "name": "stdout",
     "output_type": "stream",
     "text": [
      "dotnet run --project '/Users/paulsieben/Programming/OrderDependencyTester/CliFrontend' -c Release '/Users/paulsieben/HPI/WiSe 2023-2024 Advanced Data Profiling/Example Data and ODs/results/baseball/pitchingpost.csv.txt' '/Users/paulsieben/Programming/OrderDependencyTester/testdata/candidates/baseball/pitchingpost.csv.invalids.txt' '/Users/paulsieben/Programming/OrderDependencyTester/testdata/candidates/baseball/pitchingpost.csv.attributes.txt'\n",
      "93\n",
      "\n"
     ]
    },
    {
     "name": "stderr",
     "output_type": "stream",
     "text": [
      "Unhandled exception. System.IO.FileNotFoundException: Could not find file '/Users/paulsieben/HPI/WiSe 2023-2024 Advanced Data Profiling/Example Data and ODs/results/baseball/pitchingpost.csv.txt'.\n",
      "File name: '/Users/paulsieben/HPI/WiSe 2023-2024 Advanced Data Profiling/Example Data and ODs/results/baseball/pitchingpost.csv.txt'\n",
      "   at Interop.ThrowExceptionForIoErrno(ErrorInfo errorInfo, String path, Boolean isDirError)\n",
      "   at Microsoft.Win32.SafeHandles.SafeFileHandle.Open(String path, OpenFlags flags, Int32 mode, Boolean failForSymlink, Boolean& wasSymlink, Func`4 createOpenException)\n",
      "   at Microsoft.Win32.SafeHandles.SafeFileHandle.Open(String fullPath, FileMode mode, FileAccess access, FileShare share, FileOptions options, Int64 preallocationSize, UnixFileMode openPermissions, Int64& fileLength, UnixFileMode& filePermissions, Boolean failForSymlink, Boolean& wasSymlink, Func`4 createOpenException)\n",
      "   at System.IO.Strategies.OSFileStreamStrategy..ctor(String path, FileMode mode, FileAccess access, FileShare share, FileOptions options, Int64 preallocationSize, Nullable`1 unixCreateMode)\n",
      "   at System.IO.StreamReader.ValidateArgsAndOpenPath(String path, Encoding encoding, Int32 bufferSize)\n",
      "   at System.IO.File.ReadLines(String path)\n",
      "   at OrderDependencyModels.ISetBasedOrderDependency.Parse[TBitSet](Dictionary`2 attributesMap, String fileName) in /Users/paulsieben/Programming/OrderDependencyTester/OrderDependencyModels/ISetBasedOrderDependency.cs:line 13\n",
      "   at CliFrontend.TestExecutor.SpecificTester.Work[TBitSet]() in /Users/paulsieben/Programming/OrderDependencyTester/CliFrontend/TestExecutor.cs:line 24\n",
      "   at BitSets.BitSet.WithSufficientWidth[TResult](Int32 requiredWidth, IBitSetOperation`1 operation) in /Users/paulsieben/Programming/OrderDependencyTester/BitSets/BitSet.cs:line 11\n",
      "   at CliFrontend.TestExecutor.TestDependencies(String setBasedPath, String listBasedPath, String attributesPath) in /Users/paulsieben/Programming/OrderDependencyTester/CliFrontend/TestExecutor.cs:line 63\n",
      "   at Program.<Main>$(String[] args) in /Users/paulsieben/Programming/OrderDependencyTester/CliFrontend/Program.cs:line 21\n"
     ]
    },
    {
     "name": "stdout",
     "output_type": "stream",
     "text": [
      "dotnet run --project '/Users/paulsieben/Programming/OrderDependencyTester/CliFrontend' -c Release '/Users/paulsieben/HPI/WiSe 2023-2024 Advanced Data Profiling/Example Data and ODs/results/baseball/pitchingpost.csv.txt' '/Users/paulsieben/Programming/OrderDependencyTester/testdata/candidates/baseball/pitchingpost.csv.valids.txt' '/Users/paulsieben/Programming/OrderDependencyTester/testdata/candidates/baseball/pitchingpost.csv.attributes.txt'\n",
      "1\n",
      "\n",
      "/Users/paulsieben/HPI/WiSe 2023-2024 Advanced Data Profiling/Example Data and ODs/datasets/baseball/teams.csv\n"
     ]
    },
    {
     "name": "stderr",
     "output_type": "stream",
     "text": [
      "Unhandled exception. System.IO.FileNotFoundException: Could not find file '/Users/paulsieben/HPI/WiSe 2023-2024 Advanced Data Profiling/Example Data and ODs/results/baseball/teams.csv.txt'.\n",
      "File name: '/Users/paulsieben/HPI/WiSe 2023-2024 Advanced Data Profiling/Example Data and ODs/results/baseball/teams.csv.txt'\n",
      "   at Interop.ThrowExceptionForIoErrno(ErrorInfo errorInfo, String path, Boolean isDirError)\n",
      "   at Microsoft.Win32.SafeHandles.SafeFileHandle.Open(String path, OpenFlags flags, Int32 mode, Boolean failForSymlink, Boolean& wasSymlink, Func`4 createOpenException)\n",
      "   at Microsoft.Win32.SafeHandles.SafeFileHandle.Open(String fullPath, FileMode mode, FileAccess access, FileShare share, FileOptions options, Int64 preallocationSize, UnixFileMode openPermissions, Int64& fileLength, UnixFileMode& filePermissions, Boolean failForSymlink, Boolean& wasSymlink, Func`4 createOpenException)\n",
      "   at System.IO.Strategies.OSFileStreamStrategy..ctor(String path, FileMode mode, FileAccess access, FileShare share, FileOptions options, Int64 preallocationSize, Nullable`1 unixCreateMode)\n",
      "   at System.IO.StreamReader.ValidateArgsAndOpenPath(String path, Encoding encoding, Int32 bufferSize)\n",
      "   at System.IO.File.ReadLines(String path)\n",
      "   at OrderDependencyModels.ISetBasedOrderDependency.Parse[TBitSet](Dictionary`2 attributesMap, String fileName) in /Users/paulsieben/Programming/OrderDependencyTester/OrderDependencyModels/ISetBasedOrderDependency.cs:line 13\n",
      "   at CliFrontend.TestExecutor.SpecificTester.Work[TBitSet]() in /Users/paulsieben/Programming/OrderDependencyTester/CliFrontend/TestExecutor.cs:line 24\n",
      "   at BitSets.BitSet.WithSufficientWidth[TResult](Int32 requiredWidth, IBitSetOperation`1 operation) in /Users/paulsieben/Programming/OrderDependencyTester/BitSets/BitSet.cs:line 11\n",
      "   at CliFrontend.TestExecutor.TestDependencies(String setBasedPath, String listBasedPath, String attributesPath) in /Users/paulsieben/Programming/OrderDependencyTester/CliFrontend/TestExecutor.cs:line 63\n",
      "   at Program.<Main>$(String[] args) in /Users/paulsieben/Programming/OrderDependencyTester/CliFrontend/Program.cs:line 21\n"
     ]
    },
    {
     "name": "stdout",
     "output_type": "stream",
     "text": [
      "dotnet run --project '/Users/paulsieben/Programming/OrderDependencyTester/CliFrontend' -c Release '/Users/paulsieben/HPI/WiSe 2023-2024 Advanced Data Profiling/Example Data and ODs/results/baseball/teams.csv.txt' '/Users/paulsieben/Programming/OrderDependencyTester/testdata/candidates/baseball/teams.csv.invalids.txt' '/Users/paulsieben/Programming/OrderDependencyTester/testdata/candidates/baseball/teams.csv.attributes.txt'\n",
      "310\n",
      "\n"
     ]
    },
    {
     "name": "stderr",
     "output_type": "stream",
     "text": [
      "Unhandled exception. System.IO.FileNotFoundException: Could not find file '/Users/paulsieben/HPI/WiSe 2023-2024 Advanced Data Profiling/Example Data and ODs/results/baseball/teams.csv.txt'.\n",
      "File name: '/Users/paulsieben/HPI/WiSe 2023-2024 Advanced Data Profiling/Example Data and ODs/results/baseball/teams.csv.txt'\n",
      "   at Interop.ThrowExceptionForIoErrno(ErrorInfo errorInfo, String path, Boolean isDirError)\n",
      "   at Microsoft.Win32.SafeHandles.SafeFileHandle.Open(String path, OpenFlags flags, Int32 mode, Boolean failForSymlink, Boolean& wasSymlink, Func`4 createOpenException)\n",
      "   at Microsoft.Win32.SafeHandles.SafeFileHandle.Open(String fullPath, FileMode mode, FileAccess access, FileShare share, FileOptions options, Int64 preallocationSize, UnixFileMode openPermissions, Int64& fileLength, UnixFileMode& filePermissions, Boolean failForSymlink, Boolean& wasSymlink, Func`4 createOpenException)\n",
      "   at System.IO.Strategies.OSFileStreamStrategy..ctor(String path, FileMode mode, FileAccess access, FileShare share, FileOptions options, Int64 preallocationSize, Nullable`1 unixCreateMode)\n",
      "   at System.IO.StreamReader.ValidateArgsAndOpenPath(String path, Encoding encoding, Int32 bufferSize)\n",
      "   at System.IO.File.ReadLines(String path)\n",
      "   at OrderDependencyModels.ISetBasedOrderDependency.Parse[TBitSet](Dictionary`2 attributesMap, String fileName) in /Users/paulsieben/Programming/OrderDependencyTester/OrderDependencyModels/ISetBasedOrderDependency.cs:line 13\n",
      "   at CliFrontend.TestExecutor.SpecificTester.Work[TBitSet]() in /Users/paulsieben/Programming/OrderDependencyTester/CliFrontend/TestExecutor.cs:line 24\n",
      "   at BitSets.BitSet.WithSufficientWidth[TResult](Int32 requiredWidth, IBitSetOperation`1 operation) in /Users/paulsieben/Programming/OrderDependencyTester/BitSets/BitSet.cs:line 11\n",
      "   at CliFrontend.TestExecutor.TestDependencies(String setBasedPath, String listBasedPath, String attributesPath) in /Users/paulsieben/Programming/OrderDependencyTester/CliFrontend/TestExecutor.cs:line 63\n",
      "   at Program.<Main>$(String[] args) in /Users/paulsieben/Programming/OrderDependencyTester/CliFrontend/Program.cs:line 21\n"
     ]
    },
    {
     "name": "stdout",
     "output_type": "stream",
     "text": [
      "dotnet run --project '/Users/paulsieben/Programming/OrderDependencyTester/CliFrontend' -c Release '/Users/paulsieben/HPI/WiSe 2023-2024 Advanced Data Profiling/Example Data and ODs/results/baseball/teams.csv.txt' '/Users/paulsieben/Programming/OrderDependencyTester/testdata/candidates/baseball/teams.csv.valids.txt' '/Users/paulsieben/Programming/OrderDependencyTester/testdata/candidates/baseball/teams.csv.attributes.txt'\n",
      "1\n",
      "\n",
      "/Users/paulsieben/HPI/WiSe 2023-2024 Advanced Data Profiling/Example Data and ODs/datasets/baseball/appearances.csv\n"
     ]
    },
    {
     "name": "stderr",
     "output_type": "stream",
     "text": [
      "Warning: No ODs are being tested. Check your input data.\n"
     ]
    },
    {
     "name": "stdout",
     "output_type": "stream",
     "text": [
      "/Users/paulsieben/HPI/WiSe 2023-2024 Advanced Data Profiling/Example Data and ODs/datasets/baseball/awardsshareplayers.csv\n"
     ]
    },
    {
     "name": "stderr",
     "output_type": "stream",
     "text": [
      "Warning: No ODs are being tested. Check your input data.\n"
     ]
    },
    {
     "name": "stdout",
     "output_type": "stream",
     "text": [
      "/Users/paulsieben/HPI/WiSe 2023-2024 Advanced Data Profiling/Example Data and ODs/datasets/baseball/teamsfranchises.csv\n",
      "DISTOD file empty\n",
      "/Users/paulsieben/HPI/WiSe 2023-2024 Advanced Data Profiling/Example Data and ODs/datasets/baseball/batting.csv\n"
     ]
    },
    {
     "name": "stderr",
     "output_type": "stream",
     "text": [
      "Warning: No ODs are being tested. Check your input data.\n"
     ]
    },
    {
     "name": "stdout",
     "output_type": "stream",
     "text": [
      "/Users/paulsieben/HPI/WiSe 2023-2024 Advanced Data Profiling/Example Data and ODs/datasets/baseball/managershalf.csv\n",
      "/Users/paulsieben/HPI/WiSe 2023-2024 Advanced Data Profiling/Example Data and ODs/datasets/baseball/schoolsplayers.csv\n",
      "/Users/paulsieben/HPI/WiSe 2023-2024 Advanced Data Profiling/Example Data and ODs/datasets/baseball/fieldingof.csv\n"
     ]
    },
    {
     "name": "stderr",
     "output_type": "stream",
     "text": [
      "Warning: No ODs are being tested. Check your input data.\n"
     ]
    },
    {
     "name": "stdout",
     "output_type": "stream",
     "text": [
      "/Users/paulsieben/HPI/WiSe 2023-2024 Advanced Data Profiling/Example Data and ODs/datasets/baseball/pitching.csv\n"
     ]
    },
    {
     "name": "stderr",
     "output_type": "stream",
     "text": [
      "Unhandled exception. System.IO.FileNotFoundException: Could not find file '/Users/paulsieben/HPI/WiSe 2023-2024 Advanced Data Profiling/Example Data and ODs/results/baseball/pitching.csv.txt'.\n",
      "File name: '/Users/paulsieben/HPI/WiSe 2023-2024 Advanced Data Profiling/Example Data and ODs/results/baseball/pitching.csv.txt'\n",
      "   at Interop.ThrowExceptionForIoErrno(ErrorInfo errorInfo, String path, Boolean isDirError)\n",
      "   at Microsoft.Win32.SafeHandles.SafeFileHandle.Open(String path, OpenFlags flags, Int32 mode, Boolean failForSymlink, Boolean& wasSymlink, Func`4 createOpenException)\n",
      "   at Microsoft.Win32.SafeHandles.SafeFileHandle.Open(String fullPath, FileMode mode, FileAccess access, FileShare share, FileOptions options, Int64 preallocationSize, UnixFileMode openPermissions, Int64& fileLength, UnixFileMode& filePermissions, Boolean failForSymlink, Boolean& wasSymlink, Func`4 createOpenException)\n",
      "   at System.IO.Strategies.OSFileStreamStrategy..ctor(String path, FileMode mode, FileAccess access, FileShare share, FileOptions options, Int64 preallocationSize, Nullable`1 unixCreateMode)\n",
      "   at System.IO.StreamReader.ValidateArgsAndOpenPath(String path, Encoding encoding, Int32 bufferSize)\n",
      "   at System.IO.File.ReadLines(String path)\n",
      "   at OrderDependencyModels.ISetBasedOrderDependency.Parse[TBitSet](Dictionary`2 attributesMap, String fileName) in /Users/paulsieben/Programming/OrderDependencyTester/OrderDependencyModels/ISetBasedOrderDependency.cs:line 13\n",
      "   at CliFrontend.TestExecutor.SpecificTester.Work[TBitSet]() in /Users/paulsieben/Programming/OrderDependencyTester/CliFrontend/TestExecutor.cs:line 24\n",
      "   at BitSets.BitSet.WithSufficientWidth[TResult](Int32 requiredWidth, IBitSetOperation`1 operation) in /Users/paulsieben/Programming/OrderDependencyTester/BitSets/BitSet.cs:line 11\n",
      "   at CliFrontend.TestExecutor.TestDependencies(String setBasedPath, String listBasedPath, String attributesPath) in /Users/paulsieben/Programming/OrderDependencyTester/CliFrontend/TestExecutor.cs:line 63\n",
      "   at Program.<Main>$(String[] args) in /Users/paulsieben/Programming/OrderDependencyTester/CliFrontend/Program.cs:line 21\n"
     ]
    },
    {
     "name": "stdout",
     "output_type": "stream",
     "text": [
      "dotnet run --project '/Users/paulsieben/Programming/OrderDependencyTester/CliFrontend' -c Release '/Users/paulsieben/HPI/WiSe 2023-2024 Advanced Data Profiling/Example Data and ODs/results/baseball/pitching.csv.txt' '/Users/paulsieben/Programming/OrderDependencyTester/testdata/candidates/baseball/pitching.csv.invalids.txt' '/Users/paulsieben/Programming/OrderDependencyTester/testdata/candidates/baseball/pitching.csv.attributes.txt'\n",
      "3\n",
      "\n"
     ]
    },
    {
     "name": "stderr",
     "output_type": "stream",
     "text": [
      "Unhandled exception. System.IO.FileNotFoundException: Could not find file '/Users/paulsieben/HPI/WiSe 2023-2024 Advanced Data Profiling/Example Data and ODs/results/baseball/pitching.csv.txt'.\n",
      "File name: '/Users/paulsieben/HPI/WiSe 2023-2024 Advanced Data Profiling/Example Data and ODs/results/baseball/pitching.csv.txt'\n",
      "   at Interop.ThrowExceptionForIoErrno(ErrorInfo errorInfo, String path, Boolean isDirError)\n",
      "   at Microsoft.Win32.SafeHandles.SafeFileHandle.Open(String path, OpenFlags flags, Int32 mode, Boolean failForSymlink, Boolean& wasSymlink, Func`4 createOpenException)\n",
      "   at Microsoft.Win32.SafeHandles.SafeFileHandle.Open(String fullPath, FileMode mode, FileAccess access, FileShare share, FileOptions options, Int64 preallocationSize, UnixFileMode openPermissions, Int64& fileLength, UnixFileMode& filePermissions, Boolean failForSymlink, Boolean& wasSymlink, Func`4 createOpenException)\n",
      "   at System.IO.Strategies.OSFileStreamStrategy..ctor(String path, FileMode mode, FileAccess access, FileShare share, FileOptions options, Int64 preallocationSize, Nullable`1 unixCreateMode)\n",
      "   at System.IO.StreamReader.ValidateArgsAndOpenPath(String path, Encoding encoding, Int32 bufferSize)\n",
      "   at System.IO.File.ReadLines(String path)\n",
      "   at OrderDependencyModels.ISetBasedOrderDependency.Parse[TBitSet](Dictionary`2 attributesMap, String fileName) in /Users/paulsieben/Programming/OrderDependencyTester/OrderDependencyModels/ISetBasedOrderDependency.cs:line 13\n",
      "   at CliFrontend.TestExecutor.SpecificTester.Work[TBitSet]() in /Users/paulsieben/Programming/OrderDependencyTester/CliFrontend/TestExecutor.cs:line 24\n",
      "   at BitSets.BitSet.WithSufficientWidth[TResult](Int32 requiredWidth, IBitSetOperation`1 operation) in /Users/paulsieben/Programming/OrderDependencyTester/BitSets/BitSet.cs:line 11\n",
      "   at CliFrontend.TestExecutor.TestDependencies(String setBasedPath, String listBasedPath, String attributesPath) in /Users/paulsieben/Programming/OrderDependencyTester/CliFrontend/TestExecutor.cs:line 63\n",
      "   at Program.<Main>$(String[] args) in /Users/paulsieben/Programming/OrderDependencyTester/CliFrontend/Program.cs:line 21\n"
     ]
    },
    {
     "name": "stdout",
     "output_type": "stream",
     "text": [
      "dotnet run --project '/Users/paulsieben/Programming/OrderDependencyTester/CliFrontend' -c Release '/Users/paulsieben/HPI/WiSe 2023-2024 Advanced Data Profiling/Example Data and ODs/results/baseball/pitching.csv.txt' '/Users/paulsieben/Programming/OrderDependencyTester/testdata/candidates/baseball/pitching.csv.valids.txt' '/Users/paulsieben/Programming/OrderDependencyTester/testdata/candidates/baseball/pitching.csv.attributes.txt'\n",
      "1\n",
      "\n",
      "/Users/paulsieben/HPI/WiSe 2023-2024 Advanced Data Profiling/Example Data and ODs/datasets/baseball/players.csv\n"
     ]
    },
    {
     "name": "stderr",
     "output_type": "stream",
     "text": [
      "Unhandled exception. System.IO.FileNotFoundException: Could not find file '/Users/paulsieben/HPI/WiSe 2023-2024 Advanced Data Profiling/Example Data and ODs/results/baseball/players.csv.txt'.\n",
      "File name: '/Users/paulsieben/HPI/WiSe 2023-2024 Advanced Data Profiling/Example Data and ODs/results/baseball/players.csv.txt'\n",
      "   at Interop.ThrowExceptionForIoErrno(ErrorInfo errorInfo, String path, Boolean isDirError)\n",
      "   at Microsoft.Win32.SafeHandles.SafeFileHandle.Open(String path, OpenFlags flags, Int32 mode, Boolean failForSymlink, Boolean& wasSymlink, Func`4 createOpenException)\n",
      "   at Microsoft.Win32.SafeHandles.SafeFileHandle.Open(String fullPath, FileMode mode, FileAccess access, FileShare share, FileOptions options, Int64 preallocationSize, UnixFileMode openPermissions, Int64& fileLength, UnixFileMode& filePermissions, Boolean failForSymlink, Boolean& wasSymlink, Func`4 createOpenException)\n",
      "   at System.IO.Strategies.OSFileStreamStrategy..ctor(String path, FileMode mode, FileAccess access, FileShare share, FileOptions options, Int64 preallocationSize, Nullable`1 unixCreateMode)\n",
      "   at System.IO.StreamReader.ValidateArgsAndOpenPath(String path, Encoding encoding, Int32 bufferSize)\n",
      "   at System.IO.File.ReadLines(String path)\n",
      "   at OrderDependencyModels.ISetBasedOrderDependency.Parse[TBitSet](Dictionary`2 attributesMap, String fileName) in /Users/paulsieben/Programming/OrderDependencyTester/OrderDependencyModels/ISetBasedOrderDependency.cs:line 13\n",
      "   at CliFrontend.TestExecutor.SpecificTester.Work[TBitSet]() in /Users/paulsieben/Programming/OrderDependencyTester/CliFrontend/TestExecutor.cs:line 24\n",
      "   at BitSets.BitSet.WithSufficientWidth[TResult](Int32 requiredWidth, IBitSetOperation`1 operation) in /Users/paulsieben/Programming/OrderDependencyTester/BitSets/BitSet.cs:line 11\n",
      "   at CliFrontend.TestExecutor.TestDependencies(String setBasedPath, String listBasedPath, String attributesPath) in /Users/paulsieben/Programming/OrderDependencyTester/CliFrontend/TestExecutor.cs:line 63\n",
      "   at Program.<Main>$(String[] args) in /Users/paulsieben/Programming/OrderDependencyTester/CliFrontend/Program.cs:line 21\n"
     ]
    },
    {
     "name": "stdout",
     "output_type": "stream",
     "text": [
      "dotnet run --project '/Users/paulsieben/Programming/OrderDependencyTester/CliFrontend' -c Release '/Users/paulsieben/HPI/WiSe 2023-2024 Advanced Data Profiling/Example Data and ODs/results/baseball/players.csv.txt' '/Users/paulsieben/Programming/OrderDependencyTester/testdata/candidates/baseball/players.csv.invalids.txt' '/Users/paulsieben/Programming/OrderDependencyTester/testdata/candidates/baseball/players.csv.attributes.txt'\n",
      "70\n",
      "\n"
     ]
    },
    {
     "name": "stderr",
     "output_type": "stream",
     "text": [
      "Unhandled exception. System.IO.FileNotFoundException: Could not find file '/Users/paulsieben/HPI/WiSe 2023-2024 Advanced Data Profiling/Example Data and ODs/results/baseball/players.csv.txt'.\n",
      "File name: '/Users/paulsieben/HPI/WiSe 2023-2024 Advanced Data Profiling/Example Data and ODs/results/baseball/players.csv.txt'\n",
      "   at Interop.ThrowExceptionForIoErrno(ErrorInfo errorInfo, String path, Boolean isDirError)\n",
      "   at Microsoft.Win32.SafeHandles.SafeFileHandle.Open(String path, OpenFlags flags, Int32 mode, Boolean failForSymlink, Boolean& wasSymlink, Func`4 createOpenException)\n",
      "   at Microsoft.Win32.SafeHandles.SafeFileHandle.Open(String fullPath, FileMode mode, FileAccess access, FileShare share, FileOptions options, Int64 preallocationSize, UnixFileMode openPermissions, Int64& fileLength, UnixFileMode& filePermissions, Boolean failForSymlink, Boolean& wasSymlink, Func`4 createOpenException)\n",
      "   at System.IO.Strategies.OSFileStreamStrategy..ctor(String path, FileMode mode, FileAccess access, FileShare share, FileOptions options, Int64 preallocationSize, Nullable`1 unixCreateMode)\n",
      "   at System.IO.StreamReader.ValidateArgsAndOpenPath(String path, Encoding encoding, Int32 bufferSize)\n",
      "   at System.IO.File.ReadLines(String path)\n",
      "   at OrderDependencyModels.ISetBasedOrderDependency.Parse[TBitSet](Dictionary`2 attributesMap, String fileName) in /Users/paulsieben/Programming/OrderDependencyTester/OrderDependencyModels/ISetBasedOrderDependency.cs:line 13\n",
      "   at CliFrontend.TestExecutor.SpecificTester.Work[TBitSet]() in /Users/paulsieben/Programming/OrderDependencyTester/CliFrontend/TestExecutor.cs:line 24\n",
      "   at BitSets.BitSet.WithSufficientWidth[TResult](Int32 requiredWidth, IBitSetOperation`1 operation) in /Users/paulsieben/Programming/OrderDependencyTester/BitSets/BitSet.cs:line 11\n",
      "   at CliFrontend.TestExecutor.TestDependencies(String setBasedPath, String listBasedPath, String attributesPath) in /Users/paulsieben/Programming/OrderDependencyTester/CliFrontend/TestExecutor.cs:line 63\n",
      "   at Program.<Main>$(String[] args) in /Users/paulsieben/Programming/OrderDependencyTester/CliFrontend/Program.cs:line 21\n"
     ]
    },
    {
     "name": "stdout",
     "output_type": "stream",
     "text": [
      "dotnet run --project '/Users/paulsieben/Programming/OrderDependencyTester/CliFrontend' -c Release '/Users/paulsieben/HPI/WiSe 2023-2024 Advanced Data Profiling/Example Data and ODs/results/baseball/players.csv.txt' '/Users/paulsieben/Programming/OrderDependencyTester/testdata/candidates/baseball/players.csv.valids.txt' '/Users/paulsieben/Programming/OrderDependencyTester/testdata/candidates/baseball/players.csv.attributes.txt'\n",
      "1\n",
      "\n",
      "/Users/paulsieben/HPI/WiSe 2023-2024 Advanced Data Profiling/Example Data and ODs/datasets/baseball/halloffame.csv\n"
     ]
    },
    {
     "name": "stderr",
     "output_type": "stream",
     "text": [
      "Warning: No ODs are being tested. Check your input data.\n"
     ]
    },
    {
     "name": "stdout",
     "output_type": "stream",
     "text": [
      "/Users/paulsieben/HPI/WiSe 2023-2024 Advanced Data Profiling/Example Data and ODs/datasets/baseball/awardssharemanagers.csv\n"
     ]
    },
    {
     "name": "stderr",
     "output_type": "stream",
     "text": [
      "Warning: No ODs are being tested. Check your input data.\n"
     ]
    },
    {
     "name": "stdout",
     "output_type": "stream",
     "text": [
      "/Users/paulsieben/HPI/WiSe 2023-2024 Advanced Data Profiling/Example Data and ODs/datasets/baseball/battingpost.csv\n"
     ]
    },
    {
     "name": "stderr",
     "output_type": "stream",
     "text": [
      "Warning: No ODs are being tested. Check your input data.\n"
     ]
    },
    {
     "name": "stdout",
     "output_type": "stream",
     "text": [
      "/Users/paulsieben/HPI/WiSe 2023-2024 Advanced Data Profiling/Example Data and ODs/datasets/baseball/teamshalf.csv\n",
      "DISTOD file empty\n",
      "/Users/paulsieben/HPI/WiSe 2023-2024 Advanced Data Profiling/Example Data and ODs/datasets/baseball/seriespost.csv\n",
      "/Users/paulsieben/HPI/WiSe 2023-2024 Advanced Data Profiling/Example Data and ODs/datasets/baseball/els_teamnames.csv\n",
      "/Users/paulsieben/HPI/WiSe 2023-2024 Advanced Data Profiling/Example Data and ODs/datasets/baseball/fieldingpost.csv\n"
     ]
    },
    {
     "name": "stderr",
     "output_type": "stream",
     "text": [
      "Warning: No ODs are being tested. Check your input data.\n"
     ]
    },
    {
     "name": "stdout",
     "output_type": "stream",
     "text": [
      "/Users/paulsieben/HPI/WiSe 2023-2024 Advanced Data Profiling/Example Data and ODs/datasets/baseball/allstarfull.csv\n",
      "/Users/paulsieben/HPI/WiSe 2023-2024 Advanced Data Profiling/Example Data and ODs/datasets/tournament/tourney_compact_results.csv\n"
     ]
    },
    {
     "name": "stderr",
     "output_type": "stream",
     "text": [
      "Warning: No ODs are being tested. Check your input data.\n"
     ]
    },
    {
     "name": "stdout",
     "output_type": "stream",
     "text": [
      "/Users/paulsieben/HPI/WiSe 2023-2024 Advanced Data Profiling/Example Data and ODs/datasets/tournament/tourney_slots.csv\n",
      "/Users/paulsieben/HPI/WiSe 2023-2024 Advanced Data Profiling/Example Data and ODs/datasets/tournament/teams.csv\n",
      "/Users/paulsieben/HPI/WiSe 2023-2024 Advanced Data Profiling/Example Data and ODs/datasets/tournament/regular_season_compact_results.csv\n"
     ]
    },
    {
     "name": "stderr",
     "output_type": "stream",
     "text": [
      "Warning: No ODs are being tested. Check your input data.\n"
     ]
    },
    {
     "name": "stdout",
     "output_type": "stream",
     "text": [
      "/Users/paulsieben/HPI/WiSe 2023-2024 Advanced Data Profiling/Example Data and ODs/datasets/tournament/tourney_detailed_results.csv\n"
     ]
    },
    {
     "name": "stderr",
     "output_type": "stream",
     "text": [
      "Warning: No ODs are being tested. Check your input data.\n"
     ]
    },
    {
     "name": "stdout",
     "output_type": "stream",
     "text": [
      "/Users/paulsieben/HPI/WiSe 2023-2024 Advanced Data Profiling/Example Data and ODs/datasets/tournament/regular_season_detailed_results.csv\n"
     ]
    },
    {
     "name": "stderr",
     "output_type": "stream",
     "text": [
      "Unhandled exception. System.IO.FileNotFoundException: Could not find file '/Users/paulsieben/HPI/WiSe 2023-2024 Advanced Data Profiling/Example Data and ODs/results/tournament/regular_season_detailed_results.csv.txt'.\n",
      "File name: '/Users/paulsieben/HPI/WiSe 2023-2024 Advanced Data Profiling/Example Data and ODs/results/tournament/regular_season_detailed_results.csv.txt'\n",
      "   at Interop.ThrowExceptionForIoErrno(ErrorInfo errorInfo, String path, Boolean isDirError)\n",
      "   at Microsoft.Win32.SafeHandles.SafeFileHandle.Open(String path, OpenFlags flags, Int32 mode, Boolean failForSymlink, Boolean& wasSymlink, Func`4 createOpenException)\n",
      "   at Microsoft.Win32.SafeHandles.SafeFileHandle.Open(String fullPath, FileMode mode, FileAccess access, FileShare share, FileOptions options, Int64 preallocationSize, UnixFileMode openPermissions, Int64& fileLength, UnixFileMode& filePermissions, Boolean failForSymlink, Boolean& wasSymlink, Func`4 createOpenException)\n",
      "   at System.IO.Strategies.OSFileStreamStrategy..ctor(String path, FileMode mode, FileAccess access, FileShare share, FileOptions options, Int64 preallocationSize, Nullable`1 unixCreateMode)\n",
      "   at System.IO.StreamReader.ValidateArgsAndOpenPath(String path, Encoding encoding, Int32 bufferSize)\n",
      "   at System.IO.File.ReadLines(String path)\n",
      "   at OrderDependencyModels.ISetBasedOrderDependency.Parse[TBitSet](Dictionary`2 attributesMap, String fileName) in /Users/paulsieben/Programming/OrderDependencyTester/OrderDependencyModels/ISetBasedOrderDependency.cs:line 13\n",
      "   at CliFrontend.TestExecutor.SpecificTester.Work[TBitSet]() in /Users/paulsieben/Programming/OrderDependencyTester/CliFrontend/TestExecutor.cs:line 24\n",
      "   at BitSets.BitSet.WithSufficientWidth[TResult](Int32 requiredWidth, IBitSetOperation`1 operation) in /Users/paulsieben/Programming/OrderDependencyTester/BitSets/BitSet.cs:line 11\n",
      "   at CliFrontend.TestExecutor.TestDependencies(String setBasedPath, String listBasedPath, String attributesPath) in /Users/paulsieben/Programming/OrderDependencyTester/CliFrontend/TestExecutor.cs:line 63\n",
      "   at Program.<Main>$(String[] args) in /Users/paulsieben/Programming/OrderDependencyTester/CliFrontend/Program.cs:line 21\n"
     ]
    },
    {
     "name": "stdout",
     "output_type": "stream",
     "text": [
      "dotnet run --project '/Users/paulsieben/Programming/OrderDependencyTester/CliFrontend' -c Release '/Users/paulsieben/HPI/WiSe 2023-2024 Advanced Data Profiling/Example Data and ODs/results/tournament/regular_season_detailed_results.csv.txt' '/Users/paulsieben/Programming/OrderDependencyTester/testdata/candidates/tournament/regular_season_detailed_results.csv.invalids.txt' '/Users/paulsieben/Programming/OrderDependencyTester/testdata/candidates/tournament/regular_season_detailed_results.csv.attributes.txt'\n",
      "7\n",
      "\n"
     ]
    },
    {
     "name": "stderr",
     "output_type": "stream",
     "text": [
      "Unhandled exception. System.IO.FileNotFoundException: Could not find file '/Users/paulsieben/HPI/WiSe 2023-2024 Advanced Data Profiling/Example Data and ODs/results/tournament/regular_season_detailed_results.csv.txt'.\n",
      "File name: '/Users/paulsieben/HPI/WiSe 2023-2024 Advanced Data Profiling/Example Data and ODs/results/tournament/regular_season_detailed_results.csv.txt'\n",
      "   at Interop.ThrowExceptionForIoErrno(ErrorInfo errorInfo, String path, Boolean isDirError)\n",
      "   at Microsoft.Win32.SafeHandles.SafeFileHandle.Open(String path, OpenFlags flags, Int32 mode, Boolean failForSymlink, Boolean& wasSymlink, Func`4 createOpenException)\n",
      "   at Microsoft.Win32.SafeHandles.SafeFileHandle.Open(String fullPath, FileMode mode, FileAccess access, FileShare share, FileOptions options, Int64 preallocationSize, UnixFileMode openPermissions, Int64& fileLength, UnixFileMode& filePermissions, Boolean failForSymlink, Boolean& wasSymlink, Func`4 createOpenException)\n",
      "   at System.IO.Strategies.OSFileStreamStrategy..ctor(String path, FileMode mode, FileAccess access, FileShare share, FileOptions options, Int64 preallocationSize, Nullable`1 unixCreateMode)\n",
      "   at System.IO.StreamReader.ValidateArgsAndOpenPath(String path, Encoding encoding, Int32 bufferSize)\n",
      "   at System.IO.File.ReadLines(String path)\n",
      "   at OrderDependencyModels.ISetBasedOrderDependency.Parse[TBitSet](Dictionary`2 attributesMap, String fileName) in /Users/paulsieben/Programming/OrderDependencyTester/OrderDependencyModels/ISetBasedOrderDependency.cs:line 13\n",
      "   at CliFrontend.TestExecutor.SpecificTester.Work[TBitSet]() in /Users/paulsieben/Programming/OrderDependencyTester/CliFrontend/TestExecutor.cs:line 24\n",
      "   at BitSets.BitSet.WithSufficientWidth[TResult](Int32 requiredWidth, IBitSetOperation`1 operation) in /Users/paulsieben/Programming/OrderDependencyTester/BitSets/BitSet.cs:line 11\n",
      "   at CliFrontend.TestExecutor.TestDependencies(String setBasedPath, String listBasedPath, String attributesPath) in /Users/paulsieben/Programming/OrderDependencyTester/CliFrontend/TestExecutor.cs:line 63\n",
      "   at Program.<Main>$(String[] args) in /Users/paulsieben/Programming/OrderDependencyTester/CliFrontend/Program.cs:line 21\n"
     ]
    },
    {
     "name": "stdout",
     "output_type": "stream",
     "text": [
      "dotnet run --project '/Users/paulsieben/Programming/OrderDependencyTester/CliFrontend' -c Release '/Users/paulsieben/HPI/WiSe 2023-2024 Advanced Data Profiling/Example Data and ODs/results/tournament/regular_season_detailed_results.csv.txt' '/Users/paulsieben/Programming/OrderDependencyTester/testdata/candidates/tournament/regular_season_detailed_results.csv.valids.txt' '/Users/paulsieben/Programming/OrderDependencyTester/testdata/candidates/tournament/regular_season_detailed_results.csv.attributes.txt'\n",
      "1\n",
      "\n",
      "/Users/paulsieben/HPI/WiSe 2023-2024 Advanced Data Profiling/Example Data and ODs/datasets/tournament/tourney_seeds.csv\n"
     ]
    },
    {
     "name": "stderr",
     "output_type": "stream",
     "text": [
      "Warning: No ODs are being tested. Check your input data.\n"
     ]
    },
    {
     "name": "stdout",
     "output_type": "stream",
     "text": [
      "/Users/paulsieben/HPI/WiSe 2023-2024 Advanced Data Profiling/Example Data and ODs/datasets/tournament/target.csv\n",
      "/Users/paulsieben/HPI/WiSe 2023-2024 Advanced Data Profiling/Example Data and ODs/datasets/tournament/seasons.csv\n",
      "/Users/paulsieben/HPI/WiSe 2023-2024 Advanced Data Profiling/Example Data and ODs/datasets/basketball/player_allstar.csv\n",
      "DISTOD file empty\n",
      "/Users/paulsieben/HPI/WiSe 2023-2024 Advanced Data Profiling/Example Data and ODs/datasets/basketball/draft.csv\n",
      "DISTOD file empty\n",
      "/Users/paulsieben/HPI/WiSe 2023-2024 Advanced Data Profiling/Example Data and ODs/datasets/basketball/teams.csv\n",
      "DISTOD file empty\n",
      "/Users/paulsieben/HPI/WiSe 2023-2024 Advanced Data Profiling/Example Data and ODs/datasets/basketball/series_post.csv\n",
      "DISTOD file empty\n",
      "/Users/paulsieben/HPI/WiSe 2023-2024 Advanced Data Profiling/Example Data and ODs/datasets/basketball/coaches.csv\n",
      "DISTOD file empty\n",
      "/Users/paulsieben/HPI/WiSe 2023-2024 Advanced Data Profiling/Example Data and ODs/datasets/basketball/awards_coaches.csv\n",
      "DISTOD file empty\n",
      "/Users/paulsieben/HPI/WiSe 2023-2024 Advanced Data Profiling/Example Data and ODs/datasets/basketball/players.csv\n",
      "DISTOD file empty\n",
      "/Users/paulsieben/HPI/WiSe 2023-2024 Advanced Data Profiling/Example Data and ODs/datasets/basketball/awards_players.csv\n",
      "DISTOD file empty\n",
      "/Users/paulsieben/HPI/WiSe 2023-2024 Advanced Data Profiling/Example Data and ODs/datasets/basketball/players_teams.csv\n",
      "DISTOD file empty\n",
      "/Users/paulsieben/HPI/WiSe 2023-2024 Advanced Data Profiling/Example Data and ODs/datasets/walmart/station.csv\n",
      "DISTOD file empty\n",
      "/Users/paulsieben/HPI/WiSe 2023-2024 Advanced Data Profiling/Example Data and ODs/datasets/walmart/train.csv\n"
     ]
    },
    {
     "name": "stderr",
     "output_type": "stream",
     "text": [
      "Warning: No ODs are being tested. Check your input data.\n"
     ]
    },
    {
     "name": "stdout",
     "output_type": "stream",
     "text": [
      "/Users/paulsieben/HPI/WiSe 2023-2024 Advanced Data Profiling/Example Data and ODs/datasets/walmart/key.csv\n",
      "/Users/paulsieben/HPI/WiSe 2023-2024 Advanced Data Profiling/Example Data and ODs/datasets/geneea/hl_check.csv\n",
      "/Users/paulsieben/HPI/WiSe 2023-2024 Advanced Data Profiling/Example Data and ODs/datasets/geneea/typ_organu.csv\n",
      "/Users/paulsieben/HPI/WiSe 2023-2024 Advanced Data Profiling/Example Data and ODs/datasets/geneea/schuze_stav.csv\n",
      "/Users/paulsieben/HPI/WiSe 2023-2024 Advanced Data Profiling/Example Data and ODs/datasets/geneea/typ_funkce.csv\n",
      "/Users/paulsieben/HPI/WiSe 2023-2024 Advanced Data Profiling/Example Data and ODs/datasets/geneea/funkce.csv\n",
      "/Users/paulsieben/HPI/WiSe 2023-2024 Advanced Data Profiling/Example Data and ODs/datasets/geneea/osoby.csv\n",
      "/Users/paulsieben/HPI/WiSe 2023-2024 Advanced Data Profiling/Example Data and ODs/datasets/geneea/poslanec.csv\n",
      "dotnet run --project '/Users/paulsieben/Programming/OrderDependencyTester/CliFrontend' -c Release '/Users/paulsieben/HPI/WiSe 2023-2024 Advanced Data Profiling/Example Data and ODs/results/geneea/poslanec.csv.txt' '/Users/paulsieben/Programming/OrderDependencyTester/testdata/candidates/geneea/poslanec.csv.invalids.txt' '/Users/paulsieben/Programming/OrderDependencyTester/testdata/candidates/geneea/poslanec.csv.attributes.txt'\n",
      "1334\n",
      "1111 OD [8↑,12↓,10↓,11↓] -> [11↓,8↑] is valid\n",
      "00:00:00.1986895\n",
      "Total count: 1334\n",
      "Valid count: 1\n",
      "\n",
      "/Users/paulsieben/HPI/WiSe 2023-2024 Advanced Data Profiling/Example Data and ODs/datasets/geneea/hl_hlasovani.csv\n"
     ]
    },
    {
     "name": "stderr",
     "output_type": "stream",
     "text": [
      "Warning: No ODs are being tested. Check your input data.\n"
     ]
    },
    {
     "name": "stdout",
     "output_type": "stream",
     "text": [
      "/Users/paulsieben/HPI/WiSe 2023-2024 Advanced Data Profiling/Example Data and ODs/datasets/geneea/schuze.csv\n",
      "/Users/paulsieben/HPI/WiSe 2023-2024 Advanced Data Profiling/Example Data and ODs/datasets/geneea/pkgps.csv\n",
      "/Users/paulsieben/HPI/WiSe 2023-2024 Advanced Data Profiling/Example Data and ODs/datasets/geneea/hl_zposlanec.csv\n",
      "/Users/paulsieben/HPI/WiSe 2023-2024 Advanced Data Profiling/Example Data and ODs/datasets/geneea/bod_stav.csv\n",
      "/Users/paulsieben/HPI/WiSe 2023-2024 Advanced Data Profiling/Example Data and ODs/datasets/geneea/hl_poslanec.csv\n"
     ]
    },
    {
     "name": "stderr",
     "output_type": "stream",
     "text": [
      "Warning: No ODs are being tested. Check your input data.\n"
     ]
    },
    {
     "name": "stdout",
     "output_type": "stream",
     "text": [
      "/Users/paulsieben/HPI/WiSe 2023-2024 Advanced Data Profiling/Example Data and ODs/datasets/geneea/bod_schuze.csv\n"
     ]
    },
    {
     "name": "stderr",
     "output_type": "stream",
     "text": [
      "Warning: No ODs are being tested. Check your input data.\n"
     ]
    },
    {
     "name": "stdout",
     "output_type": "stream",
     "text": [
      "/Users/paulsieben/HPI/WiSe 2023-2024 Advanced Data Profiling/Example Data and ODs/datasets/geneea/zmatecne.csv\n",
      "DISTOD file empty\n",
      "/Users/paulsieben/HPI/WiSe 2023-2024 Advanced Data Profiling/Example Data and ODs/datasets/geneea/zarazeni.csv\n"
     ]
    },
    {
     "name": "stderr",
     "output_type": "stream",
     "text": [
      "Warning: No ODs are being tested. Check your input data.\n"
     ]
    },
    {
     "name": "stdout",
     "output_type": "stream",
     "text": [
      "/Users/paulsieben/HPI/WiSe 2023-2024 Advanced Data Profiling/Example Data and ODs/datasets/geneea/omluvy.csv\n",
      "dotnet run --project '/Users/paulsieben/Programming/OrderDependencyTester/CliFrontend' -c Release '/Users/paulsieben/HPI/WiSe 2023-2024 Advanced Data Profiling/Example Data and ODs/results/geneea/omluvy.csv.txt' '/Users/paulsieben/Programming/OrderDependencyTester/testdata/candidates/geneea/omluvy.csv.invalids.txt' '/Users/paulsieben/Programming/OrderDependencyTester/testdata/candidates/geneea/omluvy.csv.attributes.txt'\n",
      "28\n",
      "14 OD [2↓,4↑,1↓,0↑,3↑] -> [0↓,2↓] is valid\n",
      "00:00:00.0339912\n",
      "Total count: 28\n",
      "Valid count: 1\n",
      "\n"
     ]
    },
    {
     "name": "stderr",
     "output_type": "stream",
     "text": [
      "Warning: No ODs are being tested. Check your input data.\n"
     ]
    },
    {
     "name": "stdout",
     "output_type": "stream",
     "text": [
      "/Users/paulsieben/HPI/WiSe 2023-2024 Advanced Data Profiling/Example Data and ODs/datasets/geneea/organy.csv\n",
      "/Users/paulsieben/HPI/WiSe 2023-2024 Advanced Data Profiling/Example Data and ODs/datasets/geneea/hl_vazby.csv\n",
      "/Users/paulsieben/HPI/WiSe 2023-2024 Advanced Data Profiling/Example Data and ODs/datasets/consumer/HOUSEHOLD_MEMBERS.csv\n",
      "DISTOD file empty\n",
      "/Users/paulsieben/HPI/WiSe 2023-2024 Advanced Data Profiling/Example Data and ODs/datasets/consumer/HOUSEHOLDS.csv\n",
      "DISTOD file empty\n",
      "/Users/paulsieben/HPI/WiSe 2023-2024 Advanced Data Profiling/Example Data and ODs/datasets/consumer/EXPENDITURES.csv\n",
      "DISTOD file empty\n",
      "/Users/paulsieben/HPI/WiSe 2023-2024 Advanced Data Profiling/Example Data and ODs/datasets/genome/OBJ_CLASSES.csv\n",
      "/Users/paulsieben/HPI/WiSe 2023-2024 Advanced Data Profiling/Example Data and ODs/datasets/genome/ATT_CLASSES.csv\n",
      "/Users/paulsieben/HPI/WiSe 2023-2024 Advanced Data Profiling/Example Data and ODs/datasets/genome/IMG_OBJ_ATT.csv\n",
      "DISTOD file empty\n",
      "/Users/paulsieben/HPI/WiSe 2023-2024 Advanced Data Profiling/Example Data and ODs/datasets/genome/PRED_CLASSES.csv\n",
      "/Users/paulsieben/HPI/WiSe 2023-2024 Advanced Data Profiling/Example Data and ODs/datasets/genome/IMG_REL.csv\n",
      "DISTOD file empty\n",
      "/Users/paulsieben/HPI/WiSe 2023-2024 Advanced Data Profiling/Example Data and ODs/datasets/genome/IMG_OBJ.csv\n"
     ]
    },
    {
     "name": "stderr",
     "output_type": "stream",
     "text": [
      "Warning: No ODs are being tested. Check your input data.\n"
     ]
    },
    {
     "name": "stdout",
     "output_type": "stream",
     "text": [
      "/Users/paulsieben/HPI/WiSe 2023-2024 Advanced Data Profiling/Example Data and ODs/datasets/employee/salaries.csv\n"
     ]
    },
    {
     "name": "stderr",
     "output_type": "stream",
     "text": [
      "Warning: No ODs are being tested. Check your input data.\n"
     ]
    },
    {
     "name": "stdout",
     "output_type": "stream",
     "text": [
      "/Users/paulsieben/HPI/WiSe 2023-2024 Advanced Data Profiling/Example Data and ODs/datasets/employee/dept_emp.csv\n"
     ]
    },
    {
     "name": "stderr",
     "output_type": "stream",
     "text": [
      "Warning: No ODs are being tested. Check your input data.\n"
     ]
    },
    {
     "name": "stdout",
     "output_type": "stream",
     "text": [
      "/Users/paulsieben/HPI/WiSe 2023-2024 Advanced Data Profiling/Example Data and ODs/datasets/employee/dept_manager.csv\n",
      "/Users/paulsieben/HPI/WiSe 2023-2024 Advanced Data Profiling/Example Data and ODs/datasets/employee/departments.csv\n",
      "/Users/paulsieben/HPI/WiSe 2023-2024 Advanced Data Profiling/Example Data and ODs/datasets/employee/titles.csv\n"
     ]
    },
    {
     "name": "stderr",
     "output_type": "stream",
     "text": [
      "Warning: No ODs are being tested. Check your input data.\n"
     ]
    },
    {
     "name": "stdout",
     "output_type": "stream",
     "text": [
      "/Users/paulsieben/HPI/WiSe 2023-2024 Advanced Data Profiling/Example Data and ODs/datasets/employee/employees.csv\n"
     ]
    },
    {
     "name": "stderr",
     "output_type": "stream",
     "text": [
      "Warning: No ODs are being tested. Check your input data.\n"
     ]
    },
    {
     "name": "stdout",
     "output_type": "stream",
     "text": [
      "/Users/paulsieben/HPI/WiSe 2023-2024 Advanced Data Profiling/Example Data and ODs/datasets/hepatitis/indis.csv\n",
      "/Users/paulsieben/HPI/WiSe 2023-2024 Advanced Data Profiling/Example Data and ODs/datasets/hepatitis/rel12.csv\n",
      "/Users/paulsieben/HPI/WiSe 2023-2024 Advanced Data Profiling/Example Data and ODs/datasets/hepatitis/inf.csv\n",
      "/Users/paulsieben/HPI/WiSe 2023-2024 Advanced Data Profiling/Example Data and ODs/datasets/hepatitis/rel13.csv\n",
      "/Users/paulsieben/HPI/WiSe 2023-2024 Advanced Data Profiling/Example Data and ODs/datasets/hepatitis/rel11.csv\n",
      "DISTOD file empty\n",
      "/Users/paulsieben/HPI/WiSe 2023-2024 Advanced Data Profiling/Example Data and ODs/datasets/hepatitis/Bio.csv\n",
      "/Users/paulsieben/HPI/WiSe 2023-2024 Advanced Data Profiling/Example Data and ODs/datasets/hepatitis/dispat.csv\n",
      "/Users/paulsieben/HPI/WiSe 2023-2024 Advanced Data Profiling/Example Data and ODs/datasets/movielens/movies2directors.csv\n",
      "/Users/paulsieben/HPI/WiSe 2023-2024 Advanced Data Profiling/Example Data and ODs/datasets/movielens/users.csv\n",
      "/Users/paulsieben/HPI/WiSe 2023-2024 Advanced Data Profiling/Example Data and ODs/datasets/movielens/u2base.csv\n"
     ]
    },
    {
     "name": "stderr",
     "output_type": "stream",
     "text": [
      "Warning: No ODs are being tested. Check your input data.\n"
     ]
    },
    {
     "name": "stdout",
     "output_type": "stream",
     "text": [
      "/Users/paulsieben/HPI/WiSe 2023-2024 Advanced Data Profiling/Example Data and ODs/datasets/movielens/actors.csv\n",
      "/Users/paulsieben/HPI/WiSe 2023-2024 Advanced Data Profiling/Example Data and ODs/datasets/movielens/directors.csv\n",
      "/Users/paulsieben/HPI/WiSe 2023-2024 Advanced Data Profiling/Example Data and ODs/datasets/movielens/movies2actors.csv\n"
     ]
    },
    {
     "name": "stderr",
     "output_type": "stream",
     "text": [
      "Warning: No ODs are being tested. Check your input data.\n"
     ]
    },
    {
     "name": "stdout",
     "output_type": "stream",
     "text": [
      "/Users/paulsieben/HPI/WiSe 2023-2024 Advanced Data Profiling/Example Data and ODs/datasets/movielens/movies.csv\n"
     ]
    },
    {
     "name": "stderr",
     "output_type": "stream",
     "text": [
      "Warning: No ODs are being tested. Check your input data.\n"
     ]
    }
   ],
   "source": [
    "from tqdm.notebook import tqdm\n",
    "for file in tqdm((root_path / \"datasets\").glob(\"**/*\")):\n",
    "    if file.is_dir() or not file.name.endswith('.csv'): continue\n",
    "    distod_results_path = root_path / \"results\" / str(file.parent.name)/ (str(file.name) + \".txt\")\n",
    "    valid_path = result_path / \"candidates\" / str(file.parent.name)/ (str(file.name) + \".valids.txt\")\n",
    "    invalid_path = result_path / \"candidates\" / str(file.parent.name)/ (str(file.name) + \".invalids.txt\")\n",
    "    attributes_path = result_path / \"candidates\" / str(file.parent.name)/ (str(file.name) + \".attributes.txt\")\n",
    "    if not (valid_path.exists() and invalid_path.exists()): continue\n",
    "    print(file)    \n",
    "    if not attributes_path.exists():\n",
    "        attributes_path.write_text(\"\\n\".join(pd.read_csv(file,sep='\\t').columns))\n",
    "    if (result.stdout and 'System.IO.FileNotFoundException' in result.stdout) or (result.stderr and 'System.IO.FileNotFoundException' in result.stderr):\n",
    "        print(\"DISTOD results file not found\")\n",
    "        continue\n",
    "    \n",
    "    if distod_results_path.exists() and  len(distod_results_path.read_text()) == 0:\n",
    "        print(\"DISTOD file empty\")\n",
    "        continue\n",
    "    \n",
    "    for file_path in [invalid_path, valid_path]:\n",
    "        command = f\"dotnet run --project '{project_path}' -c Release '{distod_results_path}' '{file_path}' '{attributes_path}'\"\n",
    "        # get number of lines in file_path\n",
    "        file_length = file_path.read_text().count('\\n') + 1\n",
    "        result = subprocess.run(command, shell=True, stdout=subprocess.PIPE, text=True)\n",
    "        if '.valids.txt' in file_path.name and f\"Valid count: {file_length}\" not in result.stdout and \"Total count: 0\" not in result.stdout:\n",
    "            print(command)\n",
    "            print(file_length)\n",
    "            print(result.stdout)\n",
    "        \n",
    "        elif '.invalids.txt' in file_path.name and \"Valid count: 0\" not in result.stdout and \"Total count: 0\" not in result.stdout:\n",
    "            print(command)\n",
    "            print(file_length)\n",
    "            print(result.stdout)"
   ]
  },
  {
   "cell_type": "code",
   "execution_count": null,
   "metadata": {},
   "outputs": [],
   "source": []
  }
 ],
 "metadata": {
  "kernelspec": {
   "display_name": "hcc",
   "language": "python",
   "name": "python3"
  },
  "language_info": {
   "codemirror_mode": {
    "name": "ipython",
    "version": 3
   },
   "file_extension": ".py",
   "mimetype": "text/x-python",
   "name": "python",
   "nbconvert_exporter": "python",
   "pygments_lexer": "ipython3",
   "version": "3.9.18"
  }
 },
 "nbformat": 4,
 "nbformat_minor": 2
}
