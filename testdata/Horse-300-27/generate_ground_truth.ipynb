{
 "cells": [
  {
   "cell_type": "code",
   "execution_count": 26,
   "metadata": {},
   "outputs": [],
   "source": [
    "import pandas as pd\n",
    "import random\n",
    "from tqdm.notebook import tqdm"
   ]
  },
  {
   "cell_type": "code",
   "execution_count": 27,
   "metadata": {},
   "outputs": [],
   "source": [
    "df = pd.read_csv(\"horse-sub.csv\",sep=\";\",header=None).iloc[:,:28]"
   ]
  },
  {
   "cell_type": "code",
   "execution_count": 28,
   "metadata": {},
   "outputs": [],
   "source": [
    "def number_to_excel_column(n):\n",
    "    result = \"\"\n",
    "    while n > 0:\n",
    "        n, remainder = divmod(n - 1, 26)\n",
    "        result = chr(65 + remainder) + result  # 65 is the ASCII code for 'A'\n",
    "    return result"
   ]
  },
  {
   "cell_type": "code",
   "execution_count": 29,
   "metadata": {},
   "outputs": [],
   "source": [
    "def unique_counts(x: pd.Series):\n",
    "    return len(set(x))\n",
    "\n",
    "def colsToString(cols: tuple[str], directions: tuple[bool]):\n",
    "        return f\",\".join([number_to_excel_column(col + 1) + (\"↑\" if direction else \"↓\") for col, direction in zip(cols, directions)])\n",
    "\n",
    "\n",
    "class ListBasedDependency():\n",
    "    def __init__(self, df, lhs, lhsDirection, rhs, rhsDirection) -> None:\n",
    "        self.df = df\n",
    "        self.lhs = lhs\n",
    "        self.lhsDirection = lhsDirection\n",
    "        self.rhs = rhs\n",
    "        self.rhsDirection = rhsDirection\n",
    "        \n",
    "    \n",
    "    def isValid(self):\n",
    "        # no swaps\n",
    "        sorted_by_lhs = df.sort_values(self.lhs, ascending=self.lhsDirection)\n",
    "        sorted_by_rhs = sorted_by_lhs.sort_values(self.rhs, ascending=self.rhsDirection,kind=\"stable\")\n",
    "        \n",
    "        # no splits\n",
    "        df_fd_check = df.groupby(self.lhs).agg({col: unique_counts for col in self.rhs})\n",
    "        return (sorted_by_lhs.index == sorted_by_rhs.index).all() and (df_fd_check == 1).all(axis=None)\n",
    "    \n",
    "    def __str__(self):\n",
    "        result = \"[\"\n",
    "        result += colsToString(self.lhs, self.rhsDirection)\n",
    "        result += \"] -> [\"\n",
    "        result += colsToString(self.rhs, self.rhsDirection)\n",
    "        result += \"]\"\n",
    "        return result    \n"
   ]
  },
  {
   "cell_type": "code",
   "execution_count": 30,
   "metadata": {},
   "outputs": [
    {
     "data": {
      "application/vnd.jupyter.widget-view+json": {
       "model_id": "2c5b7cd034974e1bbf19d3742ac97782",
       "version_major": 2,
       "version_minor": 0
      },
      "text/plain": [
       "  0%|          | 0/2 [00:00<?, ?it/s]"
      ]
     },
     "metadata": {},
     "output_type": "display_data"
    },
    {
     "data": {
      "application/vnd.jupyter.widget-view+json": {
       "model_id": "b8e31ea123c844e5a2acc82d18016eb5",
       "version_major": 2,
       "version_minor": 0
      },
      "text/plain": [
       "  0%|          | 0/10000 [00:00<?, ?it/s]"
      ]
     },
     "metadata": {},
     "output_type": "display_data"
    },
    {
     "ename": "AttributeError",
     "evalue": "'ListBasedDependency' object has no attribute 'lhsDirections'",
     "output_type": "error",
     "traceback": [
      "\u001b[0;31m---------------------------------------------------------------------------\u001b[0m",
      "\u001b[0;31mAttributeError\u001b[0m                            Traceback (most recent call last)",
      "\u001b[1;32m/Users/paulsieben/Programming/OrderDependencyTester/testdata/Horse-300-27/generate_ground_truth.ipynb Cell 5\u001b[0m line \u001b[0;36m1\n\u001b[1;32m     <a href='vscode-notebook-cell:/Users/paulsieben/Programming/OrderDependencyTester/testdata/Horse-300-27/generate_ground_truth.ipynb#W5sZmlsZQ%3D%3D?line=9'>10</a>\u001b[0m rhsDirection \u001b[39m=\u001b[39m [random\u001b[39m.\u001b[39mchoice([\u001b[39mTrue\u001b[39;00m, \u001b[39mFalse\u001b[39;00m]) \u001b[39mfor\u001b[39;00m _ \u001b[39min\u001b[39;00m \u001b[39mrange\u001b[39m(rhsSize)]\n\u001b[1;32m     <a href='vscode-notebook-cell:/Users/paulsieben/Programming/OrderDependencyTester/testdata/Horse-300-27/generate_ground_truth.ipynb#W5sZmlsZQ%3D%3D?line=10'>11</a>\u001b[0m od \u001b[39m=\u001b[39m ListBasedDependency(df, lhs, lhsDirection, rhs, rhsDirection)\n\u001b[0;32m---> <a href='vscode-notebook-cell:/Users/paulsieben/Programming/OrderDependencyTester/testdata/Horse-300-27/generate_ground_truth.ipynb#W5sZmlsZQ%3D%3D?line=12'>13</a>\u001b[0m \u001b[39mif\u001b[39;00m od\u001b[39m.\u001b[39;49misValid():\n\u001b[1;32m     <a href='vscode-notebook-cell:/Users/paulsieben/Programming/OrderDependencyTester/testdata/Horse-300-27/generate_ground_truth.ipynb#W5sZmlsZQ%3D%3D?line=13'>14</a>\u001b[0m     valids\u001b[39m.\u001b[39mappend(\u001b[39mstr\u001b[39m(od))\n\u001b[1;32m     <a href='vscode-notebook-cell:/Users/paulsieben/Programming/OrderDependencyTester/testdata/Horse-300-27/generate_ground_truth.ipynb#W5sZmlsZQ%3D%3D?line=14'>15</a>\u001b[0m \u001b[39melif\u001b[39;00m \u001b[39mlen\u001b[39m(invalids) \u001b[39m<\u001b[39m \u001b[39m1000\u001b[39m:\n",
      "\u001b[1;32m/Users/paulsieben/Programming/OrderDependencyTester/testdata/Horse-300-27/generate_ground_truth.ipynb Cell 5\u001b[0m line \u001b[0;36m1\n\u001b[1;32m     <a href='vscode-notebook-cell:/Users/paulsieben/Programming/OrderDependencyTester/testdata/Horse-300-27/generate_ground_truth.ipynb#W5sZmlsZQ%3D%3D?line=16'>17</a>\u001b[0m \u001b[39mdef\u001b[39;00m \u001b[39misValid\u001b[39m(\u001b[39mself\u001b[39m):\n\u001b[1;32m     <a href='vscode-notebook-cell:/Users/paulsieben/Programming/OrderDependencyTester/testdata/Horse-300-27/generate_ground_truth.ipynb#W5sZmlsZQ%3D%3D?line=17'>18</a>\u001b[0m     \u001b[39m# no swaps\u001b[39;00m\n\u001b[0;32m---> <a href='vscode-notebook-cell:/Users/paulsieben/Programming/OrderDependencyTester/testdata/Horse-300-27/generate_ground_truth.ipynb#W5sZmlsZQ%3D%3D?line=18'>19</a>\u001b[0m     sorted_by_lhs \u001b[39m=\u001b[39m df\u001b[39m.\u001b[39msort_values(\u001b[39mself\u001b[39m\u001b[39m.\u001b[39mlhs, ascending\u001b[39m=\u001b[39m\u001b[39mself\u001b[39;49m\u001b[39m.\u001b[39;49mlhsDirections)\n\u001b[1;32m     <a href='vscode-notebook-cell:/Users/paulsieben/Programming/OrderDependencyTester/testdata/Horse-300-27/generate_ground_truth.ipynb#W5sZmlsZQ%3D%3D?line=19'>20</a>\u001b[0m     sorted_by_rhs \u001b[39m=\u001b[39m sorted_by_lhs\u001b[39m.\u001b[39msort_values(\u001b[39mself\u001b[39m\u001b[39m.\u001b[39mrhs, ascending\u001b[39m=\u001b[39m\u001b[39mself\u001b[39m\u001b[39m.\u001b[39mrhsDirections,kind\u001b[39m=\u001b[39m\u001b[39m\"\u001b[39m\u001b[39mstable\u001b[39m\u001b[39m\"\u001b[39m)\n\u001b[1;32m     <a href='vscode-notebook-cell:/Users/paulsieben/Programming/OrderDependencyTester/testdata/Horse-300-27/generate_ground_truth.ipynb#W5sZmlsZQ%3D%3D?line=21'>22</a>\u001b[0m     \u001b[39m# no splits\u001b[39;00m\n",
      "\u001b[0;31mAttributeError\u001b[0m: 'ListBasedDependency' object has no attribute 'lhsDirections'"
     ]
    }
   ],
   "source": [
    "for lhsSize in tqdm([5,10]):\n",
    "    rhsSize = 2\n",
    "    valids = []\n",
    "    invalids = []\n",
    "\n",
    "    for i in tqdm(range(10000),leave=False):\n",
    "        lhs = random.sample(sorted(df.columns), lhsSize)\n",
    "        rhs = random.sample(sorted(df.columns), rhsSize)\n",
    "        lhsDirection = [random.choice([True, False]) for _ in range(lhsSize)]\n",
    "        rhsDirection = [random.choice([True, False]) for _ in range(rhsSize)]\n",
    "        od = ListBasedDependency(df, lhs, lhsDirection, rhs, rhsDirection)\n",
    "\n",
    "        if od.isValid():\n",
    "            valids.append(str(od))\n",
    "            \n",
    "        elif len(invalids) < 1000:\n",
    "            invalids.append(str(od))\n",
    "\n",
    "    with open(f\"valid_{lhsSize}_{rhsSize}.txt\",\"w+\") as f:\n",
    "        f.write(\"\\n\".join(valids))\n",
    "\n",
    "    with open(f\"invalid_{lhsSize}_{rhsSize}.txt\",\"w+\") as f:\n",
    "        f.write(\"\\n\".join(invalids))\n"
   ]
  },
  {
   "cell_type": "code",
   "execution_count": null,
   "metadata": {},
   "outputs": [],
   "source": []
  }
 ],
 "metadata": {
  "kernelspec": {
   "display_name": "Python 3",
   "language": "python",
   "name": "python3"
  },
  "language_info": {
   "codemirror_mode": {
    "name": "ipython",
    "version": 3
   },
   "file_extension": ".py",
   "mimetype": "text/x-python",
   "name": "python",
   "nbconvert_exporter": "python",
   "pygments_lexer": "ipython3",
   "version": "3.10.8"
  }
 },
 "nbformat": 4,
 "nbformat_minor": 2
}
