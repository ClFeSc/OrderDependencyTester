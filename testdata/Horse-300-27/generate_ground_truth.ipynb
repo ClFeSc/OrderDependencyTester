{
 "cells": [
  {
   "cell_type": "code",
   "execution_count": 69,
   "metadata": {},
   "outputs": [],
   "source": [
    "import pandas as pd\n",
    "import random"
   ]
  },
  {
   "cell_type": "code",
   "execution_count": 70,
   "metadata": {},
   "outputs": [],
   "source": [
    "df = pd.read_csv(\"Horse-300-27.csv\",sep=\";\",header=None)"
   ]
  },
  {
   "cell_type": "code",
   "execution_count": 71,
   "metadata": {},
   "outputs": [],
   "source": [
    "def isOdValid(df: pd.DataFrame,lhs: tuple[str], lhsDirections: tuple[bool], rhs: tuple[str], rhsDirections: tuple[bool]):\n",
    "    sorted_by_lhs = df.sort_values(lhs, ascending=lhsDirections)\n",
    "    sorted_by_rhs = sorted_by_lhs.sort_values(rhs, ascending=rhsDirections,kind=\"stable\")\n",
    "    return (sorted_by_lhs.index == sorted_by_rhs.index).all()"
   ]
  },
  {
   "cell_type": "code",
   "execution_count": 72,
   "metadata": {},
   "outputs": [],
   "source": [
    "def number_to_excel_column(n):\n",
    "    result = \"\"\n",
    "    while n > 0:\n",
    "        n, remainder = divmod(n - 1, 26)\n",
    "        result = chr(65 + remainder) + result  # 65 is the ASCII code for 'A'\n",
    "    return result"
   ]
  },
  {
   "cell_type": "code",
   "execution_count": 73,
   "metadata": {},
   "outputs": [],
   "source": [
    "def colsToString(cols: tuple[str], directions: tuple[bool]):\n",
    "    return f\",\".join([number_to_excel_column(col) + (\"↑\" if direction else \"↓\") for col, direction in zip(cols, directions)])\n",
    "\n",
    "def odToString(lhs: tuple[str], lhsDirections: tuple[bool], rhs: tuple[str], rhsDirections: tuple[bool]):\n",
    "    result = \"[\"\n",
    "    result += colsToString(lhs, lhsDirections)\n",
    "    result += \"] -> [\"\n",
    "    result += colsToString(rhs, rhsDirections)\n",
    "    result += \"]\"\n",
    "    return result    "
   ]
  },
  {
   "cell_type": "code",
   "execution_count": 91,
   "metadata": {},
   "outputs": [],
   "source": [
    "for lhsSize in [1,2,3,5,10]:\n",
    "    rhsSize = lhsSize\n",
    "    valids = []\n",
    "    invalids = []\n",
    "    for i in range(10000):\n",
    "        lhs = random.sample(sorted(df.columns), lhsSize)\n",
    "        rhs = random.sample(sorted(df.columns), rhsSize)\n",
    "        lhsDirection = [random.choice([True, False]) for _ in range(lhsSize)]\n",
    "        rhsDirection = [random.choice([True, False]) for _ in range(rhsSize)]\n",
    "        isValid = isOdValid(df,lhs, lhsDirection, rhs, rhsDirection)\n",
    "        odString = odToString(lhs, lhsDirection, rhs, rhsDirection)\n",
    "        if isValid:\n",
    "            valids.append(odString)\n",
    "        elif len(invalids) < 1000:\n",
    "            invalids.append(odString)\n",
    "\n",
    "    with open(f\"valid_{lhsSize}_{rhsSize}.txt\",\"w+\") as f:\n",
    "        f.write(\"\\n\".join(valids))\n",
    "\n",
    "    with open(f\"invalid_{lhsSize}_{rhsSize}.txt\",\"w+\") as f:\n",
    "        f.write(\"\\n\".join(invalids))\n"
   ]
  },
  {
   "cell_type": "code",
   "execution_count": null,
   "metadata": {},
   "outputs": [],
   "source": []
  }
 ],
 "metadata": {
  "kernelspec": {
   "display_name": "Python 3",
   "language": "python",
   "name": "python3"
  },
  "language_info": {
   "codemirror_mode": {
    "name": "ipython",
    "version": 3
   },
   "file_extension": ".py",
   "mimetype": "text/x-python",
   "name": "python",
   "nbconvert_exporter": "python",
   "pygments_lexer": "ipython3",
   "version": "3.10.8"
  }
 },
 "nbformat": 4,
 "nbformat_minor": 2
}
