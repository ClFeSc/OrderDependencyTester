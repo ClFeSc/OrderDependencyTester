{
 "cells": [
  {
   "cell_type": "code",
   "execution_count": 4,
   "metadata": {},
   "outputs": [],
   "source": [
    "import itertools\n",
    "\n",
    "import re"
   ]
  },
  {
   "cell_type": "code",
   "execution_count": 5,
   "metadata": {},
   "outputs": [],
   "source": [
    "columns = [\"A\",\"B\",\"C\",\"D\"]\n",
    "\n",
    "possibleDirections = [list(itertools.product((True, False), repeat=i)) for i in range(len(columns) + 1)]\n",
    "\n",
    "count = 0\n",
    "\n",
    "def generate_all_sided_permutations(columns):\n",
    "    for subset_length in range(1,len(columns) + 1):\n",
    "        for subset in itertools.combinations(columns,subset_length):\n",
    "            for permutation in itertools.permutations(subset):\n",
    "                for direction in possibleDirections[subset_length]:\n",
    "                    yield permutation, direction"
   ]
  },
  {
   "cell_type": "code",
   "execution_count": 3,
   "metadata": {},
   "outputs": [],
   "source": [
    "def print_with_direction(col, col_direction):\n",
    "    return \",\".join([col + (\"↑\" if direction else \"↓\") for col, direction in zip(col, col_direction)])\n",
    "\n",
    "def print_setbased(lhs, lhsDirection, rhs, rhsDirection):\n",
    "    return f\"[{print_with_direction(lhs, lhsDirection)}] -> [{print_with_direction(rhs, rhsDirection)}]\""
   ]
  },
  {
   "cell_type": "code",
   "execution_count": 6,
   "metadata": {},
   "outputs": [],
   "source": [
    "with open(\"all_listbased_4_cols.txt\" ,'w+')as f:\n",
    "    for lhs, lhsDirection in generate_all_sided_permutations(columns):\n",
    "        for rhs, rhsDirection in generate_all_sided_permutations(columns):\n",
    "            f.write(print_setbased(lhs, lhsDirection, rhs, rhsDirection) + '\\n')"
   ]
  },
  {
   "cell_type": "code",
   "execution_count": 7,
   "metadata": {},
   "outputs": [],
   "source": [
    "ground_truth = \"\"\"{}: C↑ ~ D↓\n",
    "{}: A↑ ~ B↓\n",
    "{D}: [] ↦ B\n",
    "{B}: [] ↦ D\n",
    "{B}: [] ↦ C\n",
    "{D}: [] ↦ C\n",
    "{D}: [] ↦ A\n",
    "{A}: [] ↦ D\n",
    "{A}: [] ↦ C\n",
    "{B}: [] ↦ A\n",
    "{A}: [] ↦ B\n",
    "{C}: B↑ ~ D↑\n",
    "{C}: A↑ ~ D↓\n",
    "\"\"\""
   ]
  },
  {
   "cell_type": "code",
   "execution_count": 8,
   "metadata": {},
   "outputs": [
    {
     "name": "stdout",
     "output_type": "stream",
     "text": [
      "[D↑] -> [D↑, B↑]\n",
      "[D↓] -> [D↓, B↑]\n",
      "[B↑] -> [B↑, D↑]\n",
      "[B↓] -> [B↓, D↑]\n",
      "[B↑] -> [B↑, C↑]\n",
      "[B↓] -> [B↓, C↑]\n",
      "[D↑] -> [D↑, C↑]\n",
      "[D↓] -> [D↓, C↑]\n",
      "[D↑] -> [D↑, A↑]\n",
      "[D↓] -> [D↓, A↑]\n",
      "[A↑] -> [A↑, D↑]\n",
      "[A↓] -> [A↓, D↑]\n",
      "[A↑] -> [A↑, C↑]\n",
      "[A↓] -> [A↓, C↑]\n",
      "[B↑] -> [B↑, A↑]\n",
      "[B↓] -> [B↓, A↑]\n",
      "[A↑] -> [A↑, B↑]\n",
      "[A↓] -> [A↓, B↑]\n",
      "[C↑, B↑] -> [C↑, D↑]\n",
      "[C↓, B↑] -> [C↓, D↑]\n",
      "[C↑, A↑] -> [C↑, D↓]\n",
      "[C↓, A↑] -> [C↓, D↓]\n"
     ]
    }
   ],
   "source": [
    "constant = re.compile(\"{(.*)}: \\\\[\\\\] ↦ (.+)\")\n",
    "compatible = re.compile(\"{(.*)}: (.+) ~ (.+)\")\n",
    "\n",
    "for line in ground_truth.split('\\n'):\n",
    "    if results := compatible.match(line):\n",
    "        context, lhs, rhs = results.groups()\n",
    "        for cols, directions in generate_all_sided_permutations(context):\n",
    "            if cols:\n",
    "                print(f\"[{print_with_direction(cols,directions)}, {lhs}] -> [{print_with_direction(cols, directions)}, {rhs}]\")\n",
    "    if results := constant.match(line):\n",
    "        context, rhs = results.groups()\n",
    "        for cols, directions in generate_all_sided_permutations(context):\n",
    "            if cols:\n",
    "                print(f\"[{print_with_direction(cols,directions)}] -> [{print_with_direction(cols, directions)}, {rhs}↑]\")"
   ]
  },
  {
   "cell_type": "code",
   "execution_count": null,
   "metadata": {},
   "outputs": [],
   "source": []
  }
 ],
 "metadata": {
  "kernelspec": {
   "display_name": "Python 3",
   "language": "python",
   "name": "python3"
  },
  "language_info": {
   "codemirror_mode": {
    "name": "ipython",
    "version": 3
   },
   "file_extension": ".py",
   "mimetype": "text/x-python",
   "name": "python",
   "nbconvert_exporter": "python",
   "pygments_lexer": "ipython3",
   "version": "3.10.8"
  }
 },
 "nbformat": 4,
 "nbformat_minor": 2
}
