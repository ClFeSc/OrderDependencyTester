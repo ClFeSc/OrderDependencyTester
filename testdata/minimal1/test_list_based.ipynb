{
 "cells": [
  {
   "cell_type": "code",
   "execution_count": 8,
   "metadata": {},
   "outputs": [],
   "source": [
    "# validates randomly generated list-based ODs directly on the data\n",
    "import pandas as pd\n",
    "import random\n",
    "from tqdm.notebook import tqdm\n",
    "import re"
   ]
  },
  {
   "cell_type": "code",
   "execution_count": 9,
   "metadata": {},
   "outputs": [
    {
     "data": {
      "text/html": [
       "<div>\n",
       "<style scoped>\n",
       "    .dataframe tbody tr th:only-of-type {\n",
       "        vertical-align: middle;\n",
       "    }\n",
       "\n",
       "    .dataframe tbody tr th {\n",
       "        vertical-align: top;\n",
       "    }\n",
       "\n",
       "    .dataframe thead th {\n",
       "        text-align: right;\n",
       "    }\n",
       "</style>\n",
       "<table border=\"1\" class=\"dataframe\">\n",
       "  <thead>\n",
       "    <tr style=\"text-align: right;\">\n",
       "      <th></th>\n",
       "      <th>0</th>\n",
       "      <th>1</th>\n",
       "      <th>2</th>\n",
       "      <th>3</th>\n",
       "    </tr>\n",
       "  </thead>\n",
       "  <tbody>\n",
       "    <tr>\n",
       "      <th>0</th>\n",
       "      <td>0</td>\n",
       "      <td>-5</td>\n",
       "      <td>10</td>\n",
       "      <td>20</td>\n",
       "    </tr>\n",
       "    <tr>\n",
       "      <th>1</th>\n",
       "      <td>10</td>\n",
       "      <td>-6</td>\n",
       "      <td>20</td>\n",
       "      <td>10</td>\n",
       "    </tr>\n",
       "    <tr>\n",
       "      <th>2</th>\n",
       "      <td>20</td>\n",
       "      <td>-7</td>\n",
       "      <td>10</td>\n",
       "      <td>15</td>\n",
       "    </tr>\n",
       "    <tr>\n",
       "      <th>3</th>\n",
       "      <td>30</td>\n",
       "      <td>-8</td>\n",
       "      <td>20</td>\n",
       "      <td>5</td>\n",
       "    </tr>\n",
       "  </tbody>\n",
       "</table>\n",
       "</div>"
      ],
      "text/plain": [
       "    0  1   2   3\n",
       "0   0 -5  10  20\n",
       "1  10 -6  20  10\n",
       "2  20 -7  10  15\n",
       "3  30 -8  20   5"
      ]
     },
     "execution_count": 9,
     "metadata": {},
     "output_type": "execute_result"
    }
   ],
   "source": [
    "df = pd.read_csv(\"minimal1.csv\",sep=\";\",header=None)\n",
    "df"
   ]
  },
  {
   "cell_type": "code",
   "execution_count": 10,
   "metadata": {},
   "outputs": [],
   "source": [
    "def number_to_excel_column(n):\n",
    "    result = \"\"\n",
    "    while n > 0:\n",
    "        n, remainder = divmod(n - 1, 26)\n",
    "        result = chr(65 + remainder) + result  # 65 is the ASCII code for 'A'\n",
    "    return result\n",
    "\n",
    "def excel_column_to_number(column_str):\n",
    "    result = 0\n",
    "    for i, char in enumerate(reversed(column_str)):\n",
    "        result += (ord(char) - 64) * (26 ** i)  # 64 is the ASCII code for 'A'\n",
    "    return result"
   ]
  },
  {
   "cell_type": "code",
   "execution_count": 11,
   "metadata": {},
   "outputs": [],
   "source": [
    "listbased_matcher = re.compile(r\"\\[(.+)\\] -> \\[(.+)\\]\")\n",
    "def unique_counts(x: pd.Series):\n",
    "    return len(set(x))\n",
    "\n",
    "def colsToString(cols: tuple[str], directions: tuple[bool]):\n",
    "        return f\",\".join([number_to_excel_column(col + 1) + (\"↑\" if direction else \"↓\") for col, direction in zip(cols, directions)])\n",
    "\n",
    "\n",
    "class ListBasedDependency():\n",
    "    def __init__(self, df, lhs, lhsDirection, rhs, rhsDirection) -> None:\n",
    "        self.df = df\n",
    "        self.lhs = lhs\n",
    "        self.lhsDirection = lhsDirection\n",
    "        self.rhs = rhs\n",
    "        self.rhsDirection = rhsDirection\n",
    "    \n",
    "    @staticmethod \n",
    "    def parse_attrlist(alist):\n",
    "         orderspecs = alist.split(',')\n",
    "         attributes = [excel_column_to_number(spec[:-1]) - 1 for spec in orderspecs]\n",
    "         directions = [ spec[-1] == '↑' for spec in orderspecs]\n",
    "         return attributes, directions\n",
    "    \n",
    "    @staticmethod \n",
    "    def from_string(df, s):\n",
    "        lhs, rhs = listbased_matcher.match(s).groups()\n",
    "        lhs, lhsDirections = ListBasedDependency.parse_attrlist(lhs)\n",
    "        rhs, rhsDirections = ListBasedDependency.parse_attrlist(rhs)\n",
    "        return ListBasedDependency(df, lhs, lhsDirections, rhs, rhsDirections)\n",
    "    \n",
    "    def isValid(self):\n",
    "        # no swaps\n",
    "        sorted_by_lhs = df.sort_values(self.lhs, ascending=self.lhsDirection)\n",
    "        sorted_by_rhs = sorted_by_lhs.sort_values(self.rhs, ascending=self.rhsDirection,kind=\"stable\")\n",
    "        \n",
    "        # no splits\n",
    "        df_fd_check = df.groupby(self.lhs).agg({col: unique_counts for col in self.rhs})\n",
    "        return (sorted_by_lhs.index == sorted_by_rhs.index).all() and (df_fd_check == 1).all(axis=None)\n",
    "    \n",
    "    def __str__(self):\n",
    "        result = \"[\"\n",
    "        result += colsToString(self.lhs, self.lhsDirection)\n",
    "        result += \"] -> [\"\n",
    "        result += colsToString(self.rhs, self.rhsDirection)\n",
    "        result += \"]\"\n",
    "        return result    \n"
   ]
  },
  {
   "cell_type": "code",
   "execution_count": 12,
   "metadata": {},
   "outputs": [
    {
     "data": {
      "application/vnd.jupyter.widget-view+json": {
       "model_id": "74397e4268424f41ba846d95bbabdef6",
       "version_major": 2,
       "version_minor": 0
      },
      "text/plain": [
       "  0%|          | 0/318290 [00:00<?, ?it/s]"
      ]
     },
     "metadata": {},
     "output_type": "display_data"
    }
   ],
   "source": [
    "with open('/Users/paulsieben/Programming/OrderDependencyTester/CliFrontend/to-test-invalid.txt') as f:\n",
    "    for line in tqdm(f.readlines()):\n",
    "        lb = ListBasedDependency.from_string(df,line)\n",
    "        isValid = lb.isValid()\n",
    "        if isValid:\n",
    "            print(lb)\n",
    "            lb.isValid()"
   ]
  },
  {
   "cell_type": "code",
   "execution_count": 13,
   "metadata": {},
   "outputs": [
    {
     "data": {
      "application/vnd.jupyter.widget-view+json": {
       "model_id": "e4e6bef35b37452580ac8ce52419633d",
       "version_major": 2,
       "version_minor": 0
      },
      "text/plain": [
       "  0%|          | 0/81134 [00:00<?, ?it/s]"
      ]
     },
     "metadata": {},
     "output_type": "display_data"
    }
   ],
   "source": [
    "with open('/Users/paulsieben/Programming/OrderDependencyTester/CliFrontend/to-test-valid.txt') as f:\n",
    "    for line in tqdm(f.readlines()):\n",
    "        lb = ListBasedDependency.from_string(df,line)\n",
    "        isValid = lb.isValid()\n",
    "        if not isValid:\n",
    "            print(lb)\n"
   ]
  }
 ],
 "metadata": {
  "kernelspec": {
   "display_name": "Python 3",
   "language": "python",
   "name": "python3"
  },
  "language_info": {
   "codemirror_mode": {
    "name": "ipython",
    "version": 3
   },
   "file_extension": ".py",
   "mimetype": "text/x-python",
   "name": "python",
   "nbconvert_exporter": "python",
   "pygments_lexer": "ipython3",
   "version": "3.10.8"
  }
 },
 "nbformat": 4,
 "nbformat_minor": 2
}
